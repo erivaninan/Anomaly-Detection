{
 "cells": [
  {
   "cell_type": "markdown",
   "metadata": {},
   "source": [
    "# Deep Belief Network (Réseau de croyance profond)"
   ]
  },
  {
   "cell_type": "code",
   "execution_count": 4,
   "metadata": {},
   "outputs": [],
   "source": [
    "import os\n",
    "import numpy as np\n",
    "import pandas as pd\n",
    "import seaborn as sns\n",
    "import matplotlib.pyplot as plt\n",
    "import torch\n",
    "import torch.nn as nn\n",
    "import torch.optim as optim\n",
    "from sklearn.model_selection import train_test_split\n",
    "from sklearn.preprocessing import MinMaxScaler, LabelEncoder, StandardScaler, QuantileTransformer\n",
    "from sklearn.metrics import classification_report, confusion_matrix, accuracy_score, f1_score\n",
    "from sklearn.ensemble import RandomForestClassifier\n",
    "from sklearn.decomposition import PCA\n",
    "from imblearn.over_sampling import SMOTE, RandomOverSampler\n",
    "from scipy.spatial.distance import euclidean\n",
    "from collections import Counter\n",
    "import plotly.graph_objects as go\n",
    "from plotly.subplots import make_subplots"
   ]
  },
  {
   "cell_type": "code",
   "execution_count": 4,
   "metadata": {},
   "outputs": [
    {
     "name": "stdout",
     "output_type": "stream",
     "text": [
      "Chargement du dataset normal : Reduced_Normal_Friday-WorkingHours-Afternoon-DDos.pcap_ISCX.csv\n",
      "Chargement du dataset normal : Reduced_Normal_Friday-WorkingHours-Afternoon-PortScan.pcap_ISCX.csv\n",
      "Chargement du dataset normal : Reduced_Normal_Friday-WorkingHours-Morning.pcap_ISCX.csv\n",
      "Chargement du dataset normal : Reduced_Normal_Monday-WorkingHours.pcap_ISCX.csv\n",
      "Chargement du dataset normal : Reduced_Normal_Thursday-WorkingHours-Afternoon-Infilteration.pcap_ISCX.csv\n",
      "Chargement du dataset normal : Reduced_Normal_Thursday-WorkingHours-Morning-WebAttacks.pcap_ISCX.csv\n",
      "Chargement du dataset normal : Reduced_Normal_Tuesday-WorkingHours.pcap_ISCX.csv\n",
      "Chargement du dataset normal : Reduced_Normal_Wednesday-workingHours.pcap_ISCX.csv\n",
      "Chargement du dataset anormal : Reduced_Anomalous_Wednesday-workingHours.pcap_ISCX.csv avec le label 'DoS'\n",
      "Chargement du dataset anormal : Reduced_Anomalous_Tuesday-WorkingHours.pcap_ISCX.csv avec le label 'BruteForce'\n",
      "Chargement du dataset anormal : Reduced_Anomalous_Thursday-WorkingHours-Morning-WebAttacks.pcap_ISCX.csv avec le label 'WebAttack'\n",
      "Chargement du dataset anormal : Reduced_Anomalous_Thursday-WorkingHours-Afternoon-Infilteration.pcap_ISCX.csv avec le label 'Infiltration'\n",
      "Chargement du dataset anormal : Reduced_Anomalous_Friday-WorkingHours-Morning.pcap_ISCX.csv avec le label 'Bot'\n",
      "Chargement du dataset anormal : Reduced_Anomalous_Friday-WorkingHours-Afternoon-PortScan.pcap_ISCX.csv avec le label 'PortScan'\n",
      "Chargement du dataset anormal : Reduced_Anomalous_Friday-WorkingHours-Afternoon-DDos.pcap_ISCX.csv avec le label 'DDoS'\n"
     ]
    },
    {
     "data": {
      "text/html": [
       "<div>\n",
       "<style scoped>\n",
       "    .dataframe tbody tr th:only-of-type {\n",
       "        vertical-align: middle;\n",
       "    }\n",
       "\n",
       "    .dataframe tbody tr th {\n",
       "        vertical-align: top;\n",
       "    }\n",
       "\n",
       "    .dataframe thead th {\n",
       "        text-align: right;\n",
       "    }\n",
       "</style>\n",
       "<table border=\"1\" class=\"dataframe\">\n",
       "  <thead>\n",
       "    <tr style=\"text-align: right;\">\n",
       "      <th></th>\n",
       "      <th>Destination Port</th>\n",
       "      <th>Flow Duration</th>\n",
       "      <th>Total Fwd Packets</th>\n",
       "      <th>Total Backward Packets</th>\n",
       "      <th>Fwd Packet Length Mean</th>\n",
       "      <th>Bwd Packet Length Mean</th>\n",
       "      <th>Flow Packets/s</th>\n",
       "      <th>SYN Flag Count</th>\n",
       "      <th>RST Flag Count</th>\n",
       "      <th>Label</th>\n",
       "    </tr>\n",
       "  </thead>\n",
       "  <tbody>\n",
       "    <tr>\n",
       "      <th>0</th>\n",
       "      <td>40474</td>\n",
       "      <td>7182757</td>\n",
       "      <td>1</td>\n",
       "      <td>5</td>\n",
       "      <td>6.0</td>\n",
       "      <td>6.000000</td>\n",
       "      <td>0.835334</td>\n",
       "      <td>0</td>\n",
       "      <td>0</td>\n",
       "      <td>Normal</td>\n",
       "    </tr>\n",
       "    <tr>\n",
       "      <th>1</th>\n",
       "      <td>28907</td>\n",
       "      <td>938509</td>\n",
       "      <td>1</td>\n",
       "      <td>5</td>\n",
       "      <td>6.0</td>\n",
       "      <td>6.000000</td>\n",
       "      <td>6.393119</td>\n",
       "      <td>0</td>\n",
       "      <td>0</td>\n",
       "      <td>Normal</td>\n",
       "    </tr>\n",
       "    <tr>\n",
       "      <th>2</th>\n",
       "      <td>0</td>\n",
       "      <td>119995732</td>\n",
       "      <td>123</td>\n",
       "      <td>0</td>\n",
       "      <td>0.0</td>\n",
       "      <td>0.000000</td>\n",
       "      <td>1.025036</td>\n",
       "      <td>0</td>\n",
       "      <td>0</td>\n",
       "      <td>Normal</td>\n",
       "    </tr>\n",
       "    <tr>\n",
       "      <th>3</th>\n",
       "      <td>443</td>\n",
       "      <td>142954</td>\n",
       "      <td>10</td>\n",
       "      <td>6</td>\n",
       "      <td>55.3</td>\n",
       "      <td>658.166667</td>\n",
       "      <td>111.924115</td>\n",
       "      <td>0</td>\n",
       "      <td>0</td>\n",
       "      <td>Normal</td>\n",
       "    </tr>\n",
       "    <tr>\n",
       "      <th>4</th>\n",
       "      <td>17541</td>\n",
       "      <td>2548725</td>\n",
       "      <td>1</td>\n",
       "      <td>6</td>\n",
       "      <td>6.0</td>\n",
       "      <td>6.000000</td>\n",
       "      <td>2.746471</td>\n",
       "      <td>0</td>\n",
       "      <td>0</td>\n",
       "      <td>Normal</td>\n",
       "    </tr>\n",
       "  </tbody>\n",
       "</table>\n",
       "</div>"
      ],
      "text/plain": [
       "   Destination Port  Flow Duration  Total Fwd Packets  Total Backward Packets  \\\n",
       "0             40474        7182757                  1                       5   \n",
       "1             28907         938509                  1                       5   \n",
       "2                 0      119995732                123                       0   \n",
       "3               443         142954                 10                       6   \n",
       "4             17541        2548725                  1                       6   \n",
       "\n",
       "   Fwd Packet Length Mean  Bwd Packet Length Mean  Flow Packets/s  \\\n",
       "0                     6.0                6.000000        0.835334   \n",
       "1                     6.0                6.000000        6.393119   \n",
       "2                     0.0                0.000000        1.025036   \n",
       "3                    55.3              658.166667      111.924115   \n",
       "4                     6.0                6.000000        2.746471   \n",
       "\n",
       "   SYN Flag Count  RST Flag Count   Label  \n",
       "0               0               0  Normal  \n",
       "1               0               0  Normal  \n",
       "2               0               0  Normal  \n",
       "3               0               0  Normal  \n",
       "4               0               0  Normal  "
      ]
     },
     "execution_count": 4,
     "metadata": {},
     "output_type": "execute_result"
    }
   ],
   "source": [
    "# Chemins vers les répertoires\n",
    "normal_dir = \"C:\\\\Users\\\\beriv\\\\Downloads\\\\CICIDS2017\\\\Reduced\\\\Normal\"\n",
    "anomalous_dir = \"C:\\\\Users\\\\beriv\\\\Downloads\\\\CICIDS2017\\\\Reduced\\\\Anomalous\"\n",
    "\n",
    "# Fonction pour charger les données et leur assigner un label\n",
    "def load_dataset_with_label(filepath, label):\n",
    "    df = pd.read_csv(filepath)\n",
    "    df.rename(columns={df.columns[-1]: 'Label'}, inplace=True)\n",
    "    df['Label'] = label\n",
    "    return df\n",
    "\n",
    "# Chargement de chaque dataset un par un\n",
    "# Chargement des datasets normaux\n",
    "normal_data = pd.DataFrame()\n",
    "for file in os.listdir(normal_dir):\n",
    "    if file.endswith(\".csv\"):\n",
    "        filepath = os.path.join(normal_dir, file)\n",
    "        print(f\"Chargement du dataset normal : {file}\")\n",
    "        df = load_dataset_with_label(filepath, 'Normal')\n",
    "        normal_data = pd.concat([normal_data, df], ignore_index=True)\n",
    "\n",
    "# Définition des attaques pour les datasets anomalisés\n",
    "attack_labels = {\n",
    "    \"Reduced_Anomalous_Wednesday-workingHours.pcap_ISCX.csv\": \"DoS\",\n",
    "    \"Reduced_Anomalous_Tuesday-WorkingHours.pcap_ISCX.csv\": \"BruteForce\",\n",
    "    \"Reduced_Anomalous_Thursday-WorkingHours-Morning-WebAttacks.pcap_ISCX.csv\": \"WebAttack\",\n",
    "    \"Reduced_Anomalous_Thursday-WorkingHours-Afternoon-Infilteration.pcap_ISCX.csv\": \"Infiltration\",\n",
    "    \"Reduced_Anomalous_Friday-WorkingHours-Morning.pcap_ISCX.csv\": \"Bot\",\n",
    "    \"Reduced_Anomalous_Friday-WorkingHours-Afternoon-PortScan.pcap_ISCX.csv\": \"PortScan\",\n",
    "    \"Reduced_Anomalous_Friday-WorkingHours-Afternoon-DDos.pcap_ISCX.csv\": \"DDoS\"\n",
    "}\n",
    "\n",
    "# Chargement des datasets anomalisés\n",
    "anomalous_data = pd.DataFrame()\n",
    "for file, label in attack_labels.items():\n",
    "    filepath = os.path.join(anomalous_dir, file)\n",
    "    if os.path.exists(filepath):\n",
    "        print(f\"Chargement du dataset anormal : {file} avec le label '{label}'\")\n",
    "        df = load_dataset_with_label(filepath, label)\n",
    "        anomalous_data = pd.concat([anomalous_data, df], ignore_index=True)\n",
    "    else:\n",
    "        print(f\"Fichier non trouvé : {file}\")\n",
    "\n",
    "# Fusion des données normales et anormales\n",
    "data = pd.concat([normal_data, anomalous_data], ignore_index=True)\n",
    "data.head()"
   ]
  },
  {
   "cell_type": "markdown",
   "metadata": {},
   "source": [
    "### Étape 1 : Prétraitement des données\n",
    "\n",
    "Dans cette étape, les données brutes sont nettoyées et\n",
    "équilibrées. Cela inclut :\n",
    "- Le remplacement des valeurs infinies par un maximum raisonnable\n",
    "- Le remplacement des valeurs manquantes (NaN) par la médiane\n",
    "- Une normalisation des données avec un transformateur quantile\n",
    "- L’utilisation de techniques comme RandomOverSampler et SMOTE pour gérer le déséquilibre des classes\n",
    "- Une réduction des échantillons par classe pour uniformiser la distribution"
   ]
  },
  {
   "cell_type": "code",
   "execution_count": 6,
   "metadata": {},
   "outputs": [
    {
     "name": "stdout",
     "output_type": "stream",
     "text": [
      "Distribution des classes après réduction : Counter({'Bot': 20000, 'BruteForce': 20000, 'DDoS': 20000, 'DoS': 20000, 'Infiltration': 20000, 'Normal': 20000, 'PortScan': 20000, 'WebAttack': 20000})\n"
     ]
    },
    {
     "name": "stderr",
     "output_type": "stream",
     "text": [
      "C:\\Users\\beriv\\AppData\\Local\\Temp\\ipykernel_22936\\4268824145.py:27: DeprecationWarning: DataFrameGroupBy.apply operated on the grouping columns. This behavior is deprecated, and in a future version of pandas the grouping columns will be excluded from the operation. Either pass `include_groups=False` to exclude the groupings or explicitly select the grouping columns after groupby to silence this warning.\n",
      "  reduced_data = balanced_data.groupby('Label').apply(\n"
     ]
    }
   ],
   "source": [
    "X = data.drop(columns=['Label'])\n",
    "# Remplacement des valeurs infinies par un maximum raisonnable\n",
    "X.replace([np.inf, -np.inf], np.nan, inplace=True)\n",
    "# Remplacement des NaN par la médiane de chaque colonne\n",
    "X.fillna(X.median(), inplace=True)\n",
    "y = data['Label']\n",
    "\n",
    "# Normalisation des données\n",
    "quantile_transformer = QuantileTransformer(output_distribution='uniform', random_state=42)\n",
    "X_normalized = quantile_transformer.fit_transform(X)\n",
    "\n",
    "# Gestion des déséquilibres avec RandomOverSampler et SMOTE\n",
    "ros = RandomOverSampler(random_state=42)\n",
    "X_ros, y_ros = ros.fit_resample(X_normalized, y)\n",
    "\n",
    "smote = SMOTE(random_state=42, k_neighbors=5)\n",
    "X_balanced, y_balanced = smote.fit_resample(X_ros, y_ros)\n",
    "\n",
    "# Sous-échantillonnage après SMOTE\n",
    "balanced_data = pd.DataFrame(X_balanced)\n",
    "balanced_data['Label'] = y_balanced\n",
    "\n",
    "# Limitation à 50 000 échantillons par classe\n",
    "max_samples_per_class = 20000\n",
    "reduced_data = balanced_data.groupby('Label').apply(\n",
    "    lambda x: x.sample(n=max_samples_per_class, random_state=42)\n",
    ").reset_index(drop=True)\n",
    "\n",
    "X_reduced = reduced_data.drop(columns=['Label'])\n",
    "y_reduced = reduced_data['Label']\n",
    "\n",
    "# Vérification de la nouvelle distribution\n",
    "from collections import Counter\n",
    "print(\"Distribution des classes après réduction :\", Counter(y_reduced))\n",
    "\n",
    "# Séparation des données en ensembles d'entraînement et de test\n",
    "X_train, X_test, y_train, y_test = train_test_split(X_reduced, y_reduced, test_size=0.2, random_state=42)"
   ]
  },
  {
   "cell_type": "code",
   "execution_count": 7,
   "metadata": {},
   "outputs": [],
   "source": [
    "# Séparation des données en ensembles d'entraînement et de test\n",
    "X_train, X_test, y_train, y_test = train_test_split(X_reduced, y_reduced, test_size=0.2, random_state=42)\n",
    "\n",
    "# Encodage des labels\n",
    "label_encoder = LabelEncoder()\n",
    "y_train_encoded = label_encoder.fit_transform(y_train)\n",
    "y_test_encoded = label_encoder.transform(y_test)"
   ]
  },
  {
   "cell_type": "code",
   "execution_count": 8,
   "metadata": {},
   "outputs": [],
   "source": [
    "# Conversion en NumPy\n",
    "X_train_array = X_train.values if isinstance(X_train, pd.DataFrame) else X_train\n",
    "X_test_array = X_test.values if isinstance(X_test, pd.DataFrame) else X_test\n",
    "\n",
    "# Conversion en tenseurs PyTorch\n",
    "X_train_tensor = torch.FloatTensor(X_train_array)\n",
    "y_train_tensor = torch.LongTensor(y_train_encoded)\n",
    "X_test_tensor = torch.FloatTensor(X_test_array)\n",
    "y_test_tensor = torch.LongTensor(y_test_encoded)"
   ]
  },
  {
   "cell_type": "markdown",
   "metadata": {},
   "source": [
    "### Étape 2 : Architecture du modèle construit en utilisant une architecture profonde\n",
    "Belief Network (DBN), une forme de réseau de neurones composés de couches restreintes de machines\n",
    "de Boltzmann :"
   ]
  },
  {
   "cell_type": "code",
   "execution_count": 10,
   "metadata": {},
   "outputs": [],
   "source": [
    "class DBN(nn.Module):\n",
    "    def __init__(self, input_dim, hidden_dims, output_dim):\n",
    "        super(DBN, self).__init__()\n",
    "        self.rbm_layers = nn.ModuleList([\n",
    "            nn.Linear(input_dim if i == 0 else hidden_dims[i-1], hidden_dims[i])\n",
    "            for i in range(len(hidden_dims))\n",
    "        ])\n",
    "        self.output_layer = nn.Linear(hidden_dims[-1], output_dim)\n",
    "\n",
    "    def forward(self, x):\n",
    "        for rbm in self.rbm_layers:\n",
    "            x = torch.sigmoid(rbm(x))  # Activation sigmoid\n",
    "        x = self.output_layer(x)\n",
    "        return x\n",
    "\n",
    "hidden_layers = [128, 256, 128, 64]\n",
    "dbn = DBN(input_dim=X_train.shape[1], hidden_dims=hidden_layers, output_dim=len(label_encoder.classes_))"
   ]
  },
  {
   "cell_type": "code",
   "execution_count": 8,
   "metadata": {},
   "outputs": [
    {
     "data": {
      "text/plain": [
       "489"
      ]
     },
     "execution_count": 8,
     "metadata": {},
     "output_type": "execute_result"
    }
   ],
   "source": [
    "import gc\n",
    "gc.collect()"
   ]
  },
  {
   "cell_type": "markdown",
   "metadata": {},
   "source": [
    "### Étape 3 : Entraînement du modèle, on calcule les poids pour compenser le déséquilibre des classes entraînement\n",
    "Entraînement du modèle sur 50 époques, avec des checkpoints pour sauvegarder l’état :"
   ]
  },
  {
   "cell_type": "code",
   "execution_count": 11,
   "metadata": {},
   "outputs": [],
   "source": [
    "# Calcul des poids de classe pour compenser les déséquilibres\n",
    "from sklearn.utils.class_weight import compute_class_weight\n",
    "\n",
    "class_weights = compute_class_weight('balanced', classes=np.unique(y_train_encoded), y=y_train_encoded)\n",
    "class_weights_tensor = torch.FloatTensor(class_weights).to('cuda' if torch.cuda.is_available() else 'cpu')\n",
    "\n",
    "# Définition de la fonction de perte et l'optimiseur\n",
    "criterion = nn.CrossEntropyLoss(weight=class_weights_tensor)\n",
    "optimizer = optim.Adam(dbn.parameters(), lr=0.001)"
   ]
  },
  {
   "cell_type": "code",
   "execution_count": 12,
   "metadata": {},
   "outputs": [],
   "source": [
    "checkpoint_path = \"C:\\\\Users\\\\beriv\\\\Downloads\\\\CICIDS2017\\\\2dbn_checkpoint.pth\""
   ]
  },
  {
   "cell_type": "code",
   "execution_count": 13,
   "metadata": {},
   "outputs": [],
   "source": [
    "# Chargement du checkpoint si disponible\n",
    "start_epoch = 0\n",
    "if os.path.exists(checkpoint_path):\n",
    "    print(\"Checkpoint trouvé. Chargement...\")\n",
    "    checkpoint = torch.load(checkpoint_path)\n",
    "    dbn.load_state_dict(checkpoint['model_state_dict'])\n",
    "    optimizer.load_state_dict(checkpoint['optimizer_state_dict'])\n",
    "    start_epoch = checkpoint['epoch']\n",
    "    print(f\"Reprise à l'époque {start_epoch}\")"
   ]
  },
  {
   "cell_type": "code",
   "execution_count": 15,
   "metadata": {},
   "outputs": [
    {
     "data": {
      "text/plain": [
       "0"
      ]
     },
     "execution_count": 15,
     "metadata": {},
     "output_type": "execute_result"
    }
   ],
   "source": [
    "import gc\n",
    "gc.collect()"
   ]
  },
  {
   "cell_type": "code",
   "execution_count": 19,
   "metadata": {},
   "outputs": [
    {
     "name": "stdout",
     "output_type": "stream",
     "text": [
      "Epoch 1/50 - Loss: 2.0840 - Weighted F1: 0.0289\n",
      "Epoch 2/50 - Loss: 2.0836 - Weighted F1: 0.0289\n",
      "Epoch 3/50 - Loss: 2.0830 - Weighted F1: 0.0289\n",
      "Epoch 4/50 - Loss: 2.0822 - Weighted F1: 0.0289\n",
      "Epoch 5/50 - Loss: 2.0813 - Weighted F1: 0.0289\n",
      "Epoch 6/50 - Loss: 2.0806 - Weighted F1: 0.0289\n",
      "Epoch 7/50 - Loss: 2.0800 - Weighted F1: 0.0289\n",
      "Epoch 8/50 - Loss: 2.0796 - Weighted F1: 0.0719\n",
      "Epoch 9/50 - Loss: 2.0793 - Weighted F1: 0.0274\n",
      "Epoch 10/50 - Loss: 2.0793 - Weighted F1: 0.0274\n",
      "Checkpoint sauvegardé à l'époque 10 dans 'C:\\Users\\beriv\\Downloads\\CICIDS2017\\2dbn_checkpoint.pth'\n",
      "Epoch 11/50 - Loss: 2.0793 - Weighted F1: 0.0274\n",
      "Epoch 12/50 - Loss: 2.0794 - Weighted F1: 0.0274\n",
      "Epoch 13/50 - Loss: 2.0795 - Weighted F1: 0.0274\n",
      "Epoch 14/50 - Loss: 2.0796 - Weighted F1: 0.0287\n",
      "Epoch 15/50 - Loss: 2.0796 - Weighted F1: 0.0287\n",
      "Epoch 16/50 - Loss: 2.0796 - Weighted F1: 0.0287\n",
      "Epoch 17/50 - Loss: 2.0796 - Weighted F1: 0.0287\n",
      "Epoch 18/50 - Loss: 2.0795 - Weighted F1: 0.0287\n",
      "Epoch 19/50 - Loss: 2.0793 - Weighted F1: 0.0287\n",
      "Epoch 20/50 - Loss: 2.0791 - Weighted F1: 0.0287\n",
      "Checkpoint sauvegardé à l'époque 20 dans 'C:\\Users\\beriv\\Downloads\\CICIDS2017\\2dbn_checkpoint.pth'\n",
      "Epoch 21/50 - Loss: 2.0789 - Weighted F1: 0.0287\n",
      "Epoch 22/50 - Loss: 2.0787 - Weighted F1: 0.0287\n",
      "Epoch 23/50 - Loss: 2.0785 - Weighted F1: 0.0287\n",
      "Epoch 24/50 - Loss: 2.0784 - Weighted F1: 0.0274\n",
      "Epoch 25/50 - Loss: 2.0782 - Weighted F1: 0.0273\n",
      "Epoch 26/50 - Loss: 2.0781 - Weighted F1: 0.0350\n",
      "Epoch 27/50 - Loss: 2.0780 - Weighted F1: 0.0289\n",
      "Epoch 28/50 - Loss: 2.0779 - Weighted F1: 0.0289\n",
      "Epoch 29/50 - Loss: 2.0777 - Weighted F1: 0.0289\n",
      "Epoch 30/50 - Loss: 2.0776 - Weighted F1: 0.0289\n",
      "Checkpoint sauvegardé à l'époque 30 dans 'C:\\Users\\beriv\\Downloads\\CICIDS2017\\2dbn_checkpoint.pth'\n",
      "Epoch 31/50 - Loss: 2.0774 - Weighted F1: 0.0289\n",
      "Epoch 32/50 - Loss: 2.0772 - Weighted F1: 0.0289\n",
      "Epoch 33/50 - Loss: 2.0769 - Weighted F1: 0.0289\n",
      "Epoch 34/50 - Loss: 2.0766 - Weighted F1: 0.0289\n",
      "Epoch 35/50 - Loss: 2.0762 - Weighted F1: 0.0289\n",
      "Epoch 36/50 - Loss: 2.0758 - Weighted F1: 0.1134\n",
      "Epoch 37/50 - Loss: 2.0753 - Weighted F1: 0.0686\n",
      "Epoch 38/50 - Loss: 2.0748 - Weighted F1: 0.2467\n",
      "Epoch 39/50 - Loss: 2.0742 - Weighted F1: 0.2563\n",
      "Epoch 40/50 - Loss: 2.0735 - Weighted F1: 0.1164\n",
      "Checkpoint sauvegardé à l'époque 40 dans 'C:\\Users\\beriv\\Downloads\\CICIDS2017\\2dbn_checkpoint.pth'\n",
      "Epoch 41/50 - Loss: 2.0727 - Weighted F1: 0.0881\n",
      "Epoch 42/50 - Loss: 2.0718 - Weighted F1: 0.0884\n",
      "Epoch 43/50 - Loss: 2.0707 - Weighted F1: 0.0884\n",
      "Epoch 44/50 - Loss: 2.0695 - Weighted F1: 0.0880\n",
      "Epoch 45/50 - Loss: 2.0681 - Weighted F1: 0.1010\n",
      "Epoch 46/50 - Loss: 2.0664 - Weighted F1: 0.1009\n",
      "Epoch 47/50 - Loss: 2.0644 - Weighted F1: 0.1008\n",
      "Epoch 48/50 - Loss: 2.0622 - Weighted F1: 0.1009\n",
      "Epoch 49/50 - Loss: 2.0596 - Weighted F1: 0.1011\n",
      "Epoch 50/50 - Loss: 2.0566 - Weighted F1: 0.1013\n",
      "Checkpoint sauvegardé à l'époque 50 dans 'C:\\Users\\beriv\\Downloads\\CICIDS2017\\2dbn_checkpoint.pth'\n"
     ]
    }
   ],
   "source": [
    "epochs = 50\n",
    "for epoch in range(start_epoch, epochs):\n",
    "    dbn.train()\n",
    "    optimizer.zero_grad()\n",
    "    outputs = dbn(X_train_tensor)\n",
    "    loss = criterion(outputs, y_train_tensor)\n",
    "    loss.backward()\n",
    "    optimizer.step()\n",
    "\n",
    "    # Évaluation sur l'ensemble de test à chaque époque\n",
    "    dbn.eval()\n",
    "    with torch.no_grad():\n",
    "        y_pred = torch.argmax(dbn(X_test_tensor), axis=1)\n",
    "        f1 = f1_score(y_test_tensor.numpy(), y_pred.numpy(), average='weighted')\n",
    "        print(f\"Epoch {epoch+1}/{epochs} - Loss: {loss.item():.4f} - Weighted F1: {f1:.4f}\")\n",
    "\n",
    "    # Sauvegarde des checkpoints tous les 10 epochs\n",
    "    if (epoch + 1) % 10 == 0 or epoch + 1 == epochs:\n",
    "        torch.save({\n",
    "            'epoch': epoch + 1,\n",
    "            'model_state_dict': dbn.state_dict(),\n",
    "            'optimizer_state_dict': optimizer.state_dict(),\n",
    "            'loss': loss.item(),\n",
    "        }, checkpoint_path)\n",
    "        print(f\"Checkpoint sauvegardé à l'époque {epoch + 1} dans '{checkpoint_path}'\")"
   ]
  },
  {
   "cell_type": "markdown",
   "metadata": {},
   "source": [
    "### Etape 4 : Evaluation du modèle"
   ]
  },
  {
   "cell_type": "code",
   "execution_count": 7,
   "metadata": {},
   "outputs": [
    {
     "ename": "NameError",
     "evalue": "name 'dbn' is not defined",
     "output_type": "error",
     "traceback": [
      "\u001b[1;31m---------------------------------------------------------------------------\u001b[0m",
      "\u001b[1;31mNameError\u001b[0m                                 Traceback (most recent call last)",
      "Cell \u001b[1;32mIn[7], line 2\u001b[0m\n\u001b[0;32m      1\u001b[0m \u001b[38;5;66;03m# On fait passer le modèle en mode évaluation\u001b[39;00m\n\u001b[1;32m----> 2\u001b[0m \u001b[43mdbn\u001b[49m\u001b[38;5;241m.\u001b[39meval()\n\u001b[0;32m      4\u001b[0m \u001b[38;5;66;03m# Prédictions sur l'ensemble de test\u001b[39;00m\n\u001b[0;32m      5\u001b[0m \u001b[38;5;28;01mwith\u001b[39;00m torch\u001b[38;5;241m.\u001b[39mno_grad():\n",
      "\u001b[1;31mNameError\u001b[0m: name 'dbn' is not defined"
     ]
    }
   ],
   "source": [
    "# On fait passer le modèle en mode évaluation\n",
    "dbn.eval()\n",
    "\n",
    "# Prédictions sur l'ensemble de test\n",
    "with torch.no_grad():\n",
    "    y_pred = torch.argmax(dbn(X_test_tensor), axis=1)\n",
    "\n",
    "# Calcul des métriques\n",
    "accuracy = accuracy_score(y_test_tensor.numpy(), y_pred.numpy())\n",
    "print(f\"Accuracy finale : {accuracy:.4f}\")\n",
    "\n",
    "# Affichage du rapport de classification\n",
    "print(\"\\nClassification Report:\\n\")\n",
    "print(classification_report(y_test_tensor.numpy(), y_pred.numpy(), target_names=label_encoder.classes_))"
   ]
  },
  {
   "cell_type": "code",
   "execution_count": 21,
   "metadata": {},
   "outputs": [
    {
     "data": {
      "image/png": "[encoded data removed]",
      "text/plain": [
       "<Figure size 700x500 with 2 Axes>"
      ]
     },
     "metadata": {},
     "output_type": "display_data"
    }
   ],
   "source": [
    "# Calcul de la matrice de confusion\n",
    "conf_matrix = confusion_matrix(y_test_tensor.numpy(), y_pred.numpy())\n",
    "\n",
    "# Affichage de la matrice de confusion\n",
    "plt.figure(figsize=(7, 5))\n",
    "sns.heatmap(conf_matrix, annot=True, fmt='d', cmap='Blues', xticklabels=label_encoder.classes_, yticklabels=label_encoder.classes_)\n",
    "plt.xlabel('Prédictions')\n",
    "plt.ylabel('Vraies valeurs')\n",
    "plt.title('Matrice de confusion finale')\n",
    "plt.show()"
   ]
  },
  {
   "cell_type": "markdown",
   "metadata": {},
   "source": [
    "On observe un phénomène de saturation des sorties sigmoïdes. Se produit lorsque les valeurs d'entrée d'une fonction sigmoïde deviennent très grandes (positives ou négatives). Dans ces cas, les gradients (dérivées) de la fonction sigmoïde deviennent très proches de zéro, ce qui pose un problème pour l'apprentissage dans un réseau de neurones."
   ]
  },
  {
   "cell_type": "markdown",
   "metadata": {},
   "source": [
    "Les classes comme BruteForce et PortScan ont des performances significatives en termes de rappel, mais de nombreuses autres classes, comme Bot, DDoS, et WebAttack,\n",
    "ont des scores de 0 pour toutes les métriques. \n",
    "\n",
    "**Conclusion** : Il ne faut pas utiliser la fonction d'activation Sigmoid entre les couches lorsque nos données sont peu équilibrées et qu'on joue avec de grandes valeurs !"
   ]
  },
  {
   "cell_type": "markdown",
   "metadata": {},
   "source": [
    "Plusieurs méthodes d’amélioration seraient envisageables sur le modèle :\n",
    "- Augmenter la taille des données pour les classes minoritaires\n",
    "- Essayer une autre architecture de modèle, comme un CNN ou transformer-based model, qui pourrait\n",
    "mieux capturer les patterns complexes\n",
    "- Ajuster davantage les hyperparamètres du modèle, comme les taux d’apprentissage ou les fonctions\n",
    "d’activation"
   ]
  }
 ],
 "metadata": {
  "kernelspec": {
   "display_name": "tf",
   "language": "python",
   "name": "python3"
  },
  "language_info": {
   "codemirror_mode": {
    "name": "ipython",
    "version": 3
   },
   "file_extension": ".py",
   "mimetype": "text/x-python",
   "name": "python",
   "nbconvert_exporter": "python",
   "pygments_lexer": "ipython3",
   "version": "3.10.13"
  }
 },
 "nbformat": 4,
 "nbformat_minor": 2
}
