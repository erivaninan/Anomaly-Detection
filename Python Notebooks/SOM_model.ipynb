{
 "cells": [
  {
   "cell_type": "markdown",
   "metadata": {},
   "source": [
    "# Carte de Kohonen SOMs (Self-Organizing Maps)"
   ]
  },
  {
   "cell_type": "markdown",
   "metadata": {},
   "source": [
    "Détecter les anomalies causées par des intrusions représente un défi majeur dans les environnements\n",
    "industriels en raison des interdépendances environnementales complexes et des protocoles\n",
    "de bus de terrain propriétaires. \n",
    "\n",
    "Dans le papier **\"Detecting Anomalies by using Self-Organizing Maps\n",
    "in Industrial Environments\" de Hormann and Fischer (2019)**, une méthode basée sur un réseau pour\n",
    "détecter les anomalies en utilisant des réseaux neuronaux artificiels non supervisés (SOMs) est proposée."
   ]
  },
  {
   "cell_type": "code",
   "execution_count": 1,
   "metadata": {},
   "outputs": [],
   "source": [
    "import numpy as np\n",
    "import pandas as pd\n",
    "import matplotlib.pyplot as plt\n",
    "from minisom import MiniSom\n",
    "from sklearn.model_selection import train_test_split\n",
    "from sklearn.ensemble import RandomForestClassifier\n",
    "from sklearn.preprocessing import LabelEncoder, StandardScaler\n",
    "from sklearn.metrics import classification_report, confusion_matrix\n",
    "from sklearn.preprocessing import MinMaxScaler\n",
    "from collections import Counter\n",
    "import plotly.graph_objects as go\n",
    "from plotly.subplots import make_subplots\n",
    "import plotly.graph_objects as go\n",
    "from scipy.spatial.distance import euclidean\n",
    "import os"
   ]
  },
  {
   "cell_type": "code",
   "execution_count": 2,
   "metadata": {},
   "outputs": [
    {
     "name": "stdout",
     "output_type": "stream",
     "text": [
      "Chargement du dataset normal : Reduced_Normal_Friday-WorkingHours-Afternoon-DDos.pcap_ISCX.csv\n",
      "Chargement du dataset normal : Reduced_Normal_Friday-WorkingHours-Afternoon-PortScan.pcap_ISCX.csv\n",
      "Chargement du dataset normal : Reduced_Normal_Friday-WorkingHours-Morning.pcap_ISCX.csv\n",
      "Chargement du dataset normal : Reduced_Normal_Monday-WorkingHours.pcap_ISCX.csv\n",
      "Chargement du dataset normal : Reduced_Normal_Thursday-WorkingHours-Afternoon-Infilteration.pcap_ISCX.csv\n",
      "Chargement du dataset normal : Reduced_Normal_Thursday-WorkingHours-Morning-WebAttacks.pcap_ISCX.csv\n",
      "Chargement du dataset normal : Reduced_Normal_Tuesday-WorkingHours.pcap_ISCX.csv\n",
      "Chargement du dataset normal : Reduced_Normal_Wednesday-workingHours.pcap_ISCX.csv\n",
      "Chargement du dataset anormal : Reduced_Anomalous_Wednesday-workingHours.pcap_ISCX.csv avec le label 'DoS'\n",
      "Chargement du dataset anormal : Reduced_Anomalous_Tuesday-WorkingHours.pcap_ISCX.csv avec le label 'BruteForce'\n",
      "Chargement du dataset anormal : Reduced_Anomalous_Thursday-WorkingHours-Morning-WebAttacks.pcap_ISCX.csv avec le label 'WebAttack'\n",
      "Chargement du dataset anormal : Reduced_Anomalous_Thursday-WorkingHours-Afternoon-Infilteration.pcap_ISCX.csv avec le label 'Infiltration'\n",
      "Chargement du dataset anormal : Reduced_Anomalous_Friday-WorkingHours-Morning.pcap_ISCX.csv avec le label 'Bot'\n",
      "Chargement du dataset anormal : Reduced_Anomalous_Friday-WorkingHours-Afternoon-PortScan.pcap_ISCX.csv avec le label 'PortScan'\n",
      "Chargement du dataset anormal : Reduced_Anomalous_Friday-WorkingHours-Afternoon-DDos.pcap_ISCX.csv avec le label 'DDoS'\n"
     ]
    },
    {
     "data": {
      "text/html": [
       "<div>\n",
       "<style scoped>\n",
       "    .dataframe tbody tr th:only-of-type {\n",
       "        vertical-align: middle;\n",
       "    }\n",
       "\n",
       "    .dataframe tbody tr th {\n",
       "        vertical-align: top;\n",
       "    }\n",
       "\n",
       "    .dataframe thead th {\n",
       "        text-align: right;\n",
       "    }\n",
       "</style>\n",
       "<table border=\"1\" class=\"dataframe\">\n",
       "  <thead>\n",
       "    <tr style=\"text-align: right;\">\n",
       "      <th></th>\n",
       "      <th>Destination Port</th>\n",
       "      <th>Flow Duration</th>\n",
       "      <th>Total Fwd Packets</th>\n",
       "      <th>Total Backward Packets</th>\n",
       "      <th>Fwd Packet Length Mean</th>\n",
       "      <th>Bwd Packet Length Mean</th>\n",
       "      <th>Flow Packets/s</th>\n",
       "      <th>SYN Flag Count</th>\n",
       "      <th>RST Flag Count</th>\n",
       "      <th>Label</th>\n",
       "    </tr>\n",
       "  </thead>\n",
       "  <tbody>\n",
       "    <tr>\n",
       "      <th>0</th>\n",
       "      <td>40474</td>\n",
       "      <td>7182757</td>\n",
       "      <td>1</td>\n",
       "      <td>5</td>\n",
       "      <td>6.0</td>\n",
       "      <td>6.000000</td>\n",
       "      <td>0.835334</td>\n",
       "      <td>0</td>\n",
       "      <td>0</td>\n",
       "      <td>Normal</td>\n",
       "    </tr>\n",
       "    <tr>\n",
       "      <th>1</th>\n",
       "      <td>28907</td>\n",
       "      <td>938509</td>\n",
       "      <td>1</td>\n",
       "      <td>5</td>\n",
       "      <td>6.0</td>\n",
       "      <td>6.000000</td>\n",
       "      <td>6.393119</td>\n",
       "      <td>0</td>\n",
       "      <td>0</td>\n",
       "      <td>Normal</td>\n",
       "    </tr>\n",
       "    <tr>\n",
       "      <th>2</th>\n",
       "      <td>0</td>\n",
       "      <td>119995732</td>\n",
       "      <td>123</td>\n",
       "      <td>0</td>\n",
       "      <td>0.0</td>\n",
       "      <td>0.000000</td>\n",
       "      <td>1.025036</td>\n",
       "      <td>0</td>\n",
       "      <td>0</td>\n",
       "      <td>Normal</td>\n",
       "    </tr>\n",
       "    <tr>\n",
       "      <th>3</th>\n",
       "      <td>443</td>\n",
       "      <td>142954</td>\n",
       "      <td>10</td>\n",
       "      <td>6</td>\n",
       "      <td>55.3</td>\n",
       "      <td>658.166667</td>\n",
       "      <td>111.924115</td>\n",
       "      <td>0</td>\n",
       "      <td>0</td>\n",
       "      <td>Normal</td>\n",
       "    </tr>\n",
       "    <tr>\n",
       "      <th>4</th>\n",
       "      <td>17541</td>\n",
       "      <td>2548725</td>\n",
       "      <td>1</td>\n",
       "      <td>6</td>\n",
       "      <td>6.0</td>\n",
       "      <td>6.000000</td>\n",
       "      <td>2.746471</td>\n",
       "      <td>0</td>\n",
       "      <td>0</td>\n",
       "      <td>Normal</td>\n",
       "    </tr>\n",
       "  </tbody>\n",
       "</table>\n",
       "</div>"
      ],
      "text/plain": [
       "   Destination Port  Flow Duration  Total Fwd Packets  Total Backward Packets  \\\n",
       "0             40474        7182757                  1                       5   \n",
       "1             28907         938509                  1                       5   \n",
       "2                 0      119995732                123                       0   \n",
       "3               443         142954                 10                       6   \n",
       "4             17541        2548725                  1                       6   \n",
       "\n",
       "   Fwd Packet Length Mean  Bwd Packet Length Mean  Flow Packets/s  \\\n",
       "0                     6.0                6.000000        0.835334   \n",
       "1                     6.0                6.000000        6.393119   \n",
       "2                     0.0                0.000000        1.025036   \n",
       "3                    55.3              658.166667      111.924115   \n",
       "4                     6.0                6.000000        2.746471   \n",
       "\n",
       "   SYN Flag Count  RST Flag Count   Label  \n",
       "0               0               0  Normal  \n",
       "1               0               0  Normal  \n",
       "2               0               0  Normal  \n",
       "3               0               0  Normal  \n",
       "4               0               0  Normal  "
      ]
     },
     "execution_count": 2,
     "metadata": {},
     "output_type": "execute_result"
    }
   ],
   "source": [
    "# Chemins vers les répertoires\n",
    "normal_dir = \"C:\\\\Users\\\\beriv\\\\Downloads\\\\CICIDS2017\\\\Reduced\\\\Normal\"\n",
    "anomalous_dir = \"C:\\\\Users\\\\beriv\\\\Downloads\\\\CICIDS2017\\\\Reduced\\\\Anomalous\"\n",
    "\n",
    "# Fonction pour charger le dataset et assigner le label\n",
    "def load_dataset_with_label(filepath, label):\n",
    "    df = pd.read_csv(filepath)\n",
    "    df.rename(columns={df.columns[-1]: 'Label'}, inplace=True)\n",
    "    df['Label'] = label \n",
    "    return df\n",
    "\n",
    "# Chargement de chaque dataset un par un\n",
    "# Chargement des datasets normaux\n",
    "normal_data = pd.DataFrame()\n",
    "for file in os.listdir(normal_dir):\n",
    "    if file.endswith(\".csv\"):\n",
    "        filepath = os.path.join(normal_dir, file)\n",
    "        print(f\"Chargement du dataset normal : {file}\")\n",
    "        df = load_dataset_with_label(filepath, 'Normal')\n",
    "        normal_data = pd.concat([normal_data, df], ignore_index=True)\n",
    "\n",
    "# Définition des attaques pour les datasets anomalisés\n",
    "attack_labels = {\n",
    "    \"Reduced_Anomalous_Wednesday-workingHours.pcap_ISCX.csv\": \"DoS\",\n",
    "    \"Reduced_Anomalous_Tuesday-WorkingHours.pcap_ISCX.csv\": \"BruteForce\",\n",
    "    \"Reduced_Anomalous_Thursday-WorkingHours-Morning-WebAttacks.pcap_ISCX.csv\": \"WebAttack\",\n",
    "    \"Reduced_Anomalous_Thursday-WorkingHours-Afternoon-Infilteration.pcap_ISCX.csv\": \"Infiltration\",\n",
    "    \"Reduced_Anomalous_Friday-WorkingHours-Morning.pcap_ISCX.csv\": \"Bot\",\n",
    "    \"Reduced_Anomalous_Friday-WorkingHours-Afternoon-PortScan.pcap_ISCX.csv\": \"PortScan\",\n",
    "    \"Reduced_Anomalous_Friday-WorkingHours-Afternoon-DDos.pcap_ISCX.csv\": \"DDoS\"\n",
    "}\n",
    "\n",
    "# Chargement des datasets anomalisés\n",
    "anomalous_data = pd.DataFrame()\n",
    "for file, label in attack_labels.items():\n",
    "    filepath = os.path.join(anomalous_dir, file)\n",
    "    if os.path.exists(filepath):\n",
    "        print(f\"Chargement du dataset anormal : {file} avec le label '{label}'\")\n",
    "        df = load_dataset_with_label(filepath, label)\n",
    "        anomalous_data = pd.concat([anomalous_data, df], ignore_index=True)\n",
    "    else:\n",
    "        print(f\"Fichier non trouvé : {file}\")\n",
    "\n",
    "# Fusion des données normales et anormales\n",
    "data = pd.concat([normal_data, anomalous_data], ignore_index=True)\n",
    "data.head()"
   ]
  },
  {
   "cell_type": "markdown",
   "metadata": {},
   "source": [
    "Le jeu de données est organisé en fichiers CSV\n",
    "et contient des enregistrements de trafic réseau capturés via des outils comme Wireshark. Chaque\n",
    "enregistrement correspond à un flux réseau."
   ]
  },
  {
   "cell_type": "markdown",
   "metadata": {},
   "source": [
    "#### Types d'attaques recensées :\n",
    "\n",
    "- DOS (Denial of Service) et DDOS (Distributed Denial of Service)\n",
    "- Brute Force : Essais multiples pour accéder à des services (ex. SSH)\n",
    "- Botnet : Activité d’un botnet dans le réseau\n",
    "- PortScan : Balayage des ports pour identifier des services vulnérables\n",
    "- Infiltration : Tentatives d’accès non autorisé aux systèmes internes\n",
    "- Exfiltration : Extraction de données sensibles hors du réseau\n",
    "- Attaques Web : Injection SQL, XSS (Cross-Site Scripting), etc"
   ]
  },
  {
   "cell_type": "markdown",
   "metadata": {},
   "source": [
    "## Préparation des données"
   ]
  },
  {
   "cell_type": "code",
   "execution_count": 3,
   "metadata": {},
   "outputs": [],
   "source": [
    "# Encode les labels\n",
    "label_encoder = LabelEncoder()\n",
    "data['Label'] = label_encoder.fit_transform(data['Label'])\n",
    "\n",
    "# On sépare les features des labels\n",
    "X = data.drop('Label', axis=1)\n",
    "y = data['Label']\n",
    "\n",
    "# Normalisation des features\n",
    "scaler = MinMaxScaler()\n",
    "X.replace([np.inf, -np.inf], np.nan, inplace=True)  # infinis remplacés par NaN\n",
    "X.fillna(X.mean(), inplace=True)  # NaN remplacés par la moyenne de la colonne\n",
    "X_scaled = scaler.fit_transform(X)"
   ]
  },
  {
   "cell_type": "markdown",
   "metadata": {},
   "source": [
    "## Étape 1 : Initialisation"
   ]
  },
  {
   "attachments": {
    "image.png": {
     "image/png": "[encoded data removed]"
    }
   },
   "cell_type": "markdown",
   "metadata": {},
   "source": [
    "![image.png](attachment:image.png)\n",
    "\n",
    "Légende : **SOM algorithm and learning phase based on (Kohonen et al., 2001)**\n",
    "\n",
    "Source : Hormann, R. and Fischer, E. (2019), Detecting anomalies by using self-organizing maps in industrial\n",
    "environments, pp. 336–344."
   ]
  },
  {
   "cell_type": "markdown",
   "metadata": {},
   "source": [
    "## Étape 2 : Entraînement du SOM (Self-Organizing Map)"
   ]
  },
  {
   "cell_type": "markdown",
   "metadata": {},
   "source": [
    "Entraînement d'un seul MiniSOM (pour des questions computationnelles) sur 100 itérations et un learning rate de 0.5\n",
    "\n",
    "l'un pour regrouper les données du réseau et l'autre pour trouver les centroïdes des clusters."
   ]
  },
  {
   "cell_type": "code",
   "execution_count": 9,
   "metadata": {},
   "outputs": [
    {
     "data": {
      "text/plain": [
       "490"
      ]
     },
     "execution_count": 9,
     "metadata": {},
     "output_type": "execute_result"
    }
   ],
   "source": [
    "import gc\n",
    "gc.collect()"
   ]
  },
  {
   "cell_type": "code",
   "execution_count": 4,
   "metadata": {},
   "outputs": [],
   "source": [
    "som_shape = (10, 10)\n",
    "som = MiniSom(som_shape[0], som_shape[1], X_scaled.shape[1], sigma=1.0, learning_rate=0.5)\n",
    "som.random_weights_init(X_scaled) # poids des neurones\n",
    "som.train_random(X_scaled, 100)  # On l'entraîne pour 100 itérations"
   ]
  },
  {
   "cell_type": "markdown",
   "metadata": {},
   "source": [
    "Chaque neurone de la grille (10x10) agit comme un cluster représentatif.\n",
    "\n",
    "En entraînant le réseau, MiniSom apprend à regrouper les points de données dans des zones spécifiques de la grille, créant des regroupements naturels."
   ]
  },
  {
   "cell_type": "markdown",
   "metadata": {},
   "source": [
    "## Étape 3 : Identification des clusters"
   ]
  },
  {
   "cell_type": "code",
   "execution_count": 5,
   "metadata": {},
   "outputs": [],
   "source": [
    "bmu_mapping = np.array([som.winner(x) for x in X_scaled]) # Pour chaque vecteur d'entrée x dans X_scaled, la méthode winner \n",
    "# retourne les coordonnées du neurone gagnant (BMU : Best Matching Unit) dans la grille SOM\n",
    "clusters = {}\n",
    "for idx, bmu in enumerate(bmu_mapping):\n",
    "    bmu_tuple = tuple(bmu)\n",
    "    if bmu_tuple not in clusters:\n",
    "        clusters[bmu_tuple] = []\n",
    "    clusters[bmu_tuple].append(X_scaled[idx])\n",
    "\n",
    "# Calcul des centroïdes\n",
    "centroids = {}\n",
    "for bmu, points in clusters.items():\n",
    "    centroids[bmu] = np.mean(points, axis=0)"
   ]
  },
  {
   "cell_type": "markdown",
   "metadata": {},
   "source": [
    "## Étape 4 : Phase opérationnelle (détection d'anomalies avec deux intervalles de confiance)"
   ]
  },
  {
   "cell_type": "markdown",
   "metadata": {},
   "source": [
    "1er intervalle de confiance : pour déterminer si un échantillon est trop éloigné de son unité correspondante la plus proche.\n",
    "\n",
    "2nd intervalle de confiance : afin de minimiser les faux positifs, qui constituent un inconvénient majeur des méthodes d'apprentissage automatique dans la détection des anomalies"
   ]
  },
  {
   "cell_type": "code",
   "execution_count": 6,
   "metadata": {},
   "outputs": [],
   "source": [
    "def detect_anomalies(new_samples, confidence_bmu=0.95, confidence_centroid=0.95):\n",
    "    \"\"\"\n",
    "    Détecte les anomalies en fonction des distances au BMU et au centroïde.\n",
    "    \"\"\"\n",
    "    anomalies = []\n",
    "    \n",
    "    # Calcul des seuils pour le premier intervalle de confiance (BMU)\n",
    "    bmu_distances = [euclidean(x, som.get_weights()[som.winner(x)]) for x in X_scaled]\n",
    "    bmu_threshold = np.percentile(bmu_distances, confidence_bmu * 100)\n",
    "    \n",
    "    # Calcul des seuils pour le deuxième intervalle de confiance (centroïdes)\n",
    "    centroid_distances = []\n",
    "    for bmu, points in clusters.items():\n",
    "        for point in points:\n",
    "            centroid_distances.append(euclidean(point, centroids[bmu]))\n",
    "    centroid_threshold = np.percentile(centroid_distances, confidence_centroid * 100)\n",
    "    \n",
    "    # Vérification des anomalies pour chaque nouveau point\n",
    "    for sample in new_samples:\n",
    "        # Distance au BMU\n",
    "        bmu = som.winner(sample)\n",
    "        distance_bmu = euclidean(sample, som.get_weights()[bmu])\n",
    "        \n",
    "        # Distance au centroïde du cluster\n",
    "        distance_centroid = euclidean(sample, centroids.get(bmu, np.zeros_like(sample)))\n",
    "        \n",
    "        # Anomalie si les distances dépassent les seuils\n",
    "        if distance_bmu > bmu_threshold or distance_centroid > centroid_threshold:\n",
    "            anomalies.append((sample, bmu, distance_bmu, distance_centroid))\n",
    "    \n",
    "    return anomalies"
   ]
  },
  {
   "cell_type": "markdown",
   "metadata": {},
   "source": [
    "Test de détection des anomalies en sélectionnant un échantillon de données du dataset :"
   ]
  },
  {
   "cell_type": "code",
   "execution_count": 8,
   "metadata": {},
   "outputs": [
    {
     "name": "stdout",
     "output_type": "stream",
     "text": [
      "Anomalies détectées : [(array([9.49641386e-01, 8.34330611e-01, 2.58800511e-05, 3.50549194e-05,\n",
      "       3.64297454e-01, 1.60163270e-03, 4.00000030e-01, 1.00000000e+00,\n",
      "       0.00000000e+00]), (7, 6), 0.8368830379316394, 0.9678927588476078)]\n"
     ]
    }
   ],
   "source": [
    "test_samples = X_scaled[:10]  # 10 premières lignes normalisées du dataset\n",
    "anomalies = detect_anomalies(test_samples)\n",
    "\n",
    "# Affichage des anomalies détectées\n",
    "print(\"Anomalies détectées :\", anomalies)"
   ]
  },
  {
   "cell_type": "code",
   "execution_count": null,
   "metadata": {},
   "outputs": [],
   "source": [
    "# Association de chaque BMU à la classe dominante\n",
    "bmu_to_class = {}\n",
    "for bmu in unique_bmus:\n",
    "    indices = [i for i, x in enumerate(bmu_mapping) if tuple(x) == tuple(bmu)]\n",
    "    class_counts = Counter(y[indices])\n",
    "    most_common_class = class_counts.most_common(1)[0][0]\n",
    "    bmu_to_class[tuple(bmu)] = most_common_class\n",
    "\n",
    "# Association de chaque point à la classe dominante de son BMU\n",
    "y_pred_mapped = np.array([bmu_to_class[tuple(bmu)] for bmu in bmu_mapping])"
   ]
  },
  {
   "cell_type": "markdown",
   "metadata": {},
   "source": [
    "Définition des seuils des intervalles de confiance : \n",
    "\n",
    "confidence_bmu = 0.95\n",
    "\n",
    "confidence_centroid = 0.99"
   ]
  },
  {
   "cell_type": "code",
   "execution_count": 36,
   "metadata": {},
   "outputs": [
    {
     "name": "stdout",
     "output_type": "stream",
     "text": [
      "Seuil de distance BMU (intervalle de confiance 95.0%): 0.2111\n",
      "Seuil de distance centroïde (intervalle de confiance 99.0%): 0.2993\n"
     ]
    },
    {
     "data": {
      "image/png": "[encoded data removed]",
      "text/plain": [
       "<Figure size 800x400 with 2 Axes>"
      ]
     },
     "metadata": {},
     "output_type": "display_data"
    },
    {
     "name": "stdout",
     "output_type": "stream",
     "text": [
      "Anomalie détectée : Sample [ 7.63009309e-06  1.00000018e-08 -4.65840921e-06  1.55799642e-06\n",
      "  1.01022249e-04  1.80183679e-04  4.00000060e-01  8.00000000e-01\n",
      "  1.00000000e-01], BMU (7, 4), Distance BMU 0.1582, Distance Centroid 0.3060\n"
     ]
    },
    {
     "name": "stderr",
     "output_type": "stream",
     "text": [
      "c:\\Users\\beriv\\anaconda3\\envs\\tf\\lib\\site-packages\\sklearn\\base.py:464: UserWarning:\n",
      "\n",
      "X does not have valid feature names, but MinMaxScaler was fitted with feature names\n",
      "\n"
     ]
    },
    {
     "ename": "",
     "evalue": "",
     "output_type": "error",
     "traceback": [
      "\u001b[1;31mThe Kernel crashed while executing code in the current cell or a previous cell. \n",
      "\u001b[1;31mPlease review the code in the cell(s) to identify a possible cause of the failure. \n",
      "\u001b[1;31mClick <a href='https://aka.ms/vscodeJupyterKernelCrash'>here</a> for more info. \n",
      "\u001b[1;31mView Jupyter <a href='command:jupyter.viewOutput'>log</a> for further details."
     ]
    }
   ],
   "source": [
    "# Calcul des distances BMU\n",
    "bmu_distances = [np.linalg.norm(x - som.get_weights()[som.winner(x)]) for x in X_scaled]\n",
    "\n",
    "# Calcul des distances aux centroïdes\n",
    "centroid_distances = []\n",
    "for bmu, points in clusters.items():\n",
    "    centroid = centroids[bmu]\n",
    "    centroid_distances.extend([np.linalg.norm(point - centroid) for point in points])\n",
    "\n",
    "# Définir les seuils des intervalles de confiance\n",
    "confidence_bmu = 0.95\n",
    "confidence_centroid = 0.99\n",
    "bmu_threshold = np.percentile(bmu_distances, confidence_bmu * 100)\n",
    "centroid_threshold = np.percentile(centroid_distances, confidence_centroid * 100)\n",
    "\n",
    "# Affichage des seuils pour vérification\n",
    "print(f\"Seuil de distance BMU (intervalle de confiance {confidence_bmu * 100}%): {bmu_threshold:.4f}\")\n",
    "print(f\"Seuil de distance centroïde (intervalle de confiance {confidence_centroid * 100}%): {centroid_threshold:.4f}\")\n",
    "\n",
    "# Visualisation des intervalles de confiance\n",
    "plt.figure(figsize=(8, 4))\n",
    "\n",
    "# Histogramme des distances BMU\n",
    "plt.subplot(1, 2, 1)\n",
    "plt.hist(bmu_distances, bins=30, color='blue', alpha=0.7, label='Distances BMU')\n",
    "plt.axvline(bmu_threshold, color='red', linestyle='--', label=f\"Seuil ({bmu_threshold:.4f})\")\n",
    "plt.title(\"Histogramme des distances BMU\")\n",
    "plt.xlabel(\"Distance\")\n",
    "plt.ylabel(\"Fréquence\")\n",
    "plt.legend()\n",
    "\n",
    "# Histogramme des distances centroïdes\n",
    "plt.subplot(1, 2, 2)\n",
    "plt.hist(centroid_distances, bins=30, color='green', alpha=0.7, label='Distances Centroïdes')\n",
    "plt.axvline(centroid_threshold, color='red', linestyle='--', label=f\"Seuil ({centroid_threshold:.4f})\")\n",
    "plt.title(\"Histogramme des distances aux centroïdes\")\n",
    "plt.xlabel(\"Distance\")\n",
    "plt.ylabel(\"Fréquence\")\n",
    "plt.legend()\n",
    "\n",
    "plt.tight_layout()\n",
    "plt.show()\n",
    "\n",
    "# Analyse des anomalies\n",
    "def detect_anomalies(new_samples, confidence_bmu=0.95, confidence_centroid=0.99):\n",
    "    anomalies = []\n",
    "    for sample in new_samples:\n",
    "        bmu = som.winner(sample)\n",
    "        distance_bmu = np.linalg.norm(sample - som.get_weights()[bmu])\n",
    "        centroid = centroids[bmu]\n",
    "        distance_centroid = np.linalg.norm(sample - centroid)\n",
    "\n",
    "        # Vérification des seuils\n",
    "        if distance_bmu > bmu_threshold or distance_centroid > centroid_threshold:\n",
    "            anomalies.append((sample, bmu, distance_bmu, distance_centroid))\n",
    "    return anomalies\n",
    "\n",
    "# Exemple d'échantillons de test\n",
    "new_samples = scaler.transform([[0.5, 0.2, 0.1, 0.4, 0.6, 0.7, 0.3, 0.8, 0.1]])  # Exemple\n",
    "detected_anomalies = detect_anomalies(new_samples)\n",
    "\n",
    "# Afficher les anomalies détectées\n",
    "for anomaly in detected_anomalies:\n",
    "    print(f\"Anomalie détectée : Sample {anomaly[0]}, BMU {anomaly[1]}, Distance BMU {anomaly[2]:.4f}, Distance Centroid {anomaly[3]:.4f}\")"
   ]
  },
  {
   "cell_type": "markdown",
   "metadata": {},
   "source": [
    "Lors de la détection des anomalies, un exemple d’échantillon a été identifié comme anomalie.\n",
    "\n",
    "Bien que sa distance BMU soit inférieure au seuil (0.1582 < 0.2111), sa distance au centroïde dépasse le seuil (0.3060 > 0.2993). Cela suggère que l’échantillon est proche de son BMU, mais relativement éloigné du centroïde de son cluster, indiquant une anomalie structurelle ou locale."
   ]
  },
  {
   "cell_type": "markdown",
   "metadata": {},
   "source": [
    "## Étape 5 : Évaluation du modèle"
   ]
  },
  {
   "cell_type": "code",
   "execution_count": 15,
   "metadata": {},
   "outputs": [
    {
     "name": "stdout",
     "output_type": "stream",
     "text": [
      "Classification Report:\n",
      "              precision    recall  f1-score   support\n",
      "\n",
      "         Bot       0.00      0.00      0.00       197\n",
      "  BruteForce       0.00      0.00      0.00      1384\n",
      "        DDoS       0.62      0.47      0.54     12803\n",
      "         DoS       0.82      0.53      0.65     25267\n",
      "Infiltration       0.00      0.00      0.00         4\n",
      "      Normal       0.91      0.96      0.94    227311\n",
      "    PortScan       0.65      0.71      0.68     15893\n",
      "   WebAttack       0.00      0.00      0.00       218\n",
      "\n",
      "    accuracy                           0.88    283077\n",
      "   macro avg       0.38      0.34      0.35    283077\n",
      "weighted avg       0.87      0.88      0.87    283077\n",
      "\n"
     ]
    }
   ],
   "source": [
    "print(\"Classification Report:\")\n",
    "print(classification_report(y, y_pred_mapped, target_names=label_encoder.classes_, zero_division=0))"
   ]
  },
  {
   "cell_type": "markdown",
   "metadata": {},
   "source": [
    "Les attaques prédominantes dans l'ensemble de test sont celles qui sont les mieux prédites : Dos, DDos, PortScan\n",
    "\n",
    "Les instances normales sont très bien prédites : 0.91 de précision"
   ]
  },
  {
   "cell_type": "markdown",
   "metadata": {},
   "source": [
    "#### Codebooks"
   ]
  },
  {
   "cell_type": "markdown",
   "metadata": {},
   "source": [
    "Les codebooks d’un SOM (Self-Organizing Map) représentent les poids associés à chaque neurone pour chaque feature. Ils servent de points de référence pour regrouper des données similaires dans l’espace des features. Chaque neurone de la carte est responsable de \"représenter\" un groupe de données similaires, et les valeurs des codebooks montrent les caractéristiques typiques des données associées à un neurone particulier. \n",
    "\n",
    "Ces visualisations permettent de mieux comprendre comment le SOM a organisé les données et quels neurones sont influencés par des features spécifiques."
   ]
  },
  {
   "cell_type": "code",
   "execution_count": 33,
   "metadata": {},
   "outputs": [
    {
     "data": {
      "application/vnd.plotly.v1+json": {
       "config": {
        "plotlyServerURL": "https://plot.ly"
       },
       "data": [
        {
         "colorbar": {
          "len": 0.4,
          "thickness": 10,
          "tickfont": {
           "size": 8
          },
          "title": {
           "font": {
            "size": 10
           },
           "side": "right",
           "text": "Feature 1"
          },
          "xpad": 20,
          "ypad": 10
         },
         "colorscale": [
          [
           0,
           "#0d0887"
          ],
          [
           0.1111111111111111,
           "#46039f"
          ],
          [
           0.2222222222222222,
           "#7201a8"
          ],
          [
           0.3333333333333333,
           "#9c179e"
          ],
          [
           0.4444444444444444,
           "#bd3786"
          ],
          [
           0.5555555555555556,
           "#d8576b"
          ],
          [
           0.6666666666666666,
           "#ed7953"
          ],
          [
           0.7777777777777778,
           "#fb9f3a"
          ],
          [
           0.8888888888888888,
           "#fdca26"
          ],
          [
           1,
           "#f0f921"
          ]
         ],
         "showscale": false,
         "type": "heatmap",
         "xaxis": "x",
         "yaxis": "y",
         "z": [
          [
           0.0062504464466435,
           0.017962744010891193,
           0.02843209528596331,
           0.07460119559917773,
           0.08938135795050656,
           0.08526006785487775,
           0.35626189792289803,
           0.8283893187220817,
           0.7829223035138205,
           0.05494845249539354
          ],
          [
           0.00547860862958739,
           0.02857671878948574,
           0.229263814930192,
           0.5362234122937014,
           0.5835737263706265,
           0.5847401208636883,
           0.3217506356676136,
           0.4933551258223174,
           0.3128953807806682,
           0.06325935146504261
          ],
          [
           0.005159312672974308,
           0.053959517169563265,
           0.4694404490833093,
           0.886678415050715,
           0.4826813844269006,
           0.14557591266970257,
           0.30010073265776516,
           0.6582449102457958,
           0.29514634249428573,
           0.08309567732506785
          ],
          [
           0.007133688226196684,
           0.02537196138943602,
           0.2237346000154887,
           0.482997209913008,
           0.22844264019907887,
           0.0683562739252413,
           0.1847035573547105,
           0.259296391979267,
           0.20499478037951646,
           0.7398441163147208
          ],
          [
           0.004041218264053742,
           0.46531306577026343,
           0.022634598667697833,
           0.05132567615884893,
           0.027024504858869897,
           0.01648286356187514,
           0.0621379342438697,
           0.11174344932597252,
           0.12309355213642305,
           0.1158291336661531
          ],
          [
           0.0008253249806170177,
           0.0008366677761278104,
           0.001314789021804919,
           0.0024480950491167987,
           0.00207210102126868,
           0.0025283620896970954,
           0.017625986548923916,
           0.45240909240760846,
           0.32112504306100353,
           0.5632674108302015
          ],
          [
           0.0008093950242449074,
           0.0008183059833557702,
           0.0008442849380091305,
           0.0008870994576023653,
           0.0011636901411955982,
           0.031326283280935126,
           0.02814627099420883,
           0.1393390425385455,
           0.5131604752786147,
           0.8683647159114933
          ],
          [
           0.001996855550997098,
           0.02434825198051967,
           0.0242633175460698,
           0.03934099365576769,
           0.0062168337753533975,
           0.0012890322062938965,
           0.006869233870649374,
           0.0703043520402661,
           0.3174158414592364,
           0.5871357086634034
          ],
          [
           0.023886868474280714,
           0.718586615693225,
           0.025168740727873607,
           0.0034938487257592946,
           0.3779819711102926,
           0.001818983678481343,
           0.0016932704205912664,
           0.010814903448159639,
           0.048148456489523955,
           0.06534512506354173
          ],
          [
           0.032281494618203496,
           0.020522564105419572,
           0.0029106521721367308,
           0.001675410413788854,
           0.002133013515344709,
           0.006432533243982565,
           0.002272025022872858,
           0.024750738036190722,
           0.78107765103573,
           0.09007845754729099
          ]
         ]
        },
        {
         "colorbar": {
          "len": 0.4,
          "thickness": 10,
          "tickfont": {
           "size": 8
          },
          "title": {
           "font": {
            "size": 10
           },
           "side": "right",
           "text": "Feature 2"
          },
          "xpad": 20,
          "ypad": 10
         },
         "colorscale": [
          [
           0,
           "#0d0887"
          ],
          [
           0.1111111111111111,
           "#46039f"
          ],
          [
           0.2222222222222222,
           "#7201a8"
          ],
          [
           0.3333333333333333,
           "#9c179e"
          ],
          [
           0.4444444444444444,
           "#bd3786"
          ],
          [
           0.5555555555555556,
           "#d8576b"
          ],
          [
           0.6666666666666666,
           "#ed7953"
          ],
          [
           0.7777777777777778,
           "#fb9f3a"
          ],
          [
           0.8888888888888888,
           "#fdca26"
          ],
          [
           1,
           "#f0f921"
          ]
         ],
         "showscale": false,
         "type": "heatmap",
         "xaxis": "x2",
         "yaxis": "y2",
         "z": [
          [
           0.662620569435277,
           0.03771894400235124,
           0.024072337356478166,
           0.9099317104124669,
           0.8436275193777405,
           0.0040186357362504525,
           0.02994202507070002,
           0.037126054935657495,
           0.006720006307804542,
           0.5016201117480268
          ],
          [
           0.1495242036620431,
           0.0844185925434416,
           0.17802749563598239,
           0.3330493732055591,
           0.11479515676045833,
           0.01724666770091952,
           0.005570670057628533,
           0.010520919410582094,
           0.013426581732206266,
           0.15283031447139467
          ],
          [
           0.06522301765427153,
           0.06832199264593547,
           0.5377151283676948,
           0.6867247818114651,
           0.5693593012970742,
           0.038536119984100246,
           0.015834867376718673,
           0.025657272722040037,
           0.06640771957832235,
           0.8575293239148205
          ],
          [
           0.009464341044384535,
           0.02131217674021904,
           0.1687879596078,
           0.3625673502516084,
           0.16932863628436454,
           0.023170094843920505,
           0.05494585589861405,
           0.048169637744508956,
           0.08458853482180013,
           0.0360881668894158
          ],
          [
           0.036103037946743494,
           0.002096952300100191,
           0.560262383614735,
           0.03766648025049465,
           0.01862432125984004,
           0.005465534181501273,
           0.016394152134069084,
           0.027840233531883977,
           0.01942278640474901,
           0.4248768770946617
          ],
          [
           0.000053324343359530336,
           0.0002871012168458829,
           0.0006197822637449783,
           0.6202441325468202,
           0.7353087959912782,
           0.0008213429013724719,
           0.003885465865130388,
           0.012021726985573496,
           0.029200540588725343,
           0.022572333595461055
          ],
          [
           0.000013991153348519283,
           0.00017673977899496167,
           0.0004906297389328754,
           0.0015444407727184374,
           0.012305685363183013,
           0.0013847345471967535,
           0.0018103735007522562,
           0.006833809652237934,
           0.028235491072419266,
           0.022990734768649965
          ],
          [
           0.0007642747500998144,
           0.012126067583359821,
           0.000735002781076799,
           0.010890494655857527,
           0.09740759463764576,
           0.012996830313331646,
           0.006630542488639565,
           0.010030836324005959,
           0.020790141029950845,
           0.02174332239732458
          ],
          [
           0.02166537284458968,
           0.26297166802421823,
           0.012101609110614985,
           0.0007598718143844261,
           0.011323140210076434,
           0.0087493143909697,
           0.037741208488893216,
           0.007342092139259105,
           0.004786303635854918,
           0.0031624351791802344
          ],
          [
           0.0018714501428299354,
           0.32174303138426996,
           0.5512433654670168,
           0.000037658564082904685,
           0.5717956918893262,
           0.014603266340185448,
           0.3858088996857547,
           0.002988298199019667,
           0.0003464525212098975,
           0.00008403418076150971
          ]
         ]
        },
        {
         "colorbar": {
          "len": 0.4,
          "thickness": 10,
          "tickfont": {
           "size": 8
          },
          "title": {
           "font": {
            "size": 10
           },
           "side": "right",
           "text": "Feature 3"
          },
          "xpad": 20,
          "ypad": 10
         },
         "colorscale": [
          [
           0,
           "#0d0887"
          ],
          [
           0.1111111111111111,
           "#46039f"
          ],
          [
           0.2222222222222222,
           "#7201a8"
          ],
          [
           0.3333333333333333,
           "#9c179e"
          ],
          [
           0.4444444444444444,
           "#bd3786"
          ],
          [
           0.5555555555555556,
           "#d8576b"
          ],
          [
           0.6666666666666666,
           "#ed7953"
          ],
          [
           0.7777777777777778,
           "#fb9f3a"
          ],
          [
           0.8888888888888888,
           "#fdca26"
          ],
          [
           1,
           "#f0f921"
          ]
         ],
         "showscale": false,
         "type": "heatmap",
         "xaxis": "x3",
         "yaxis": "y3",
         "z": [
          [
           0.00007775846041773272,
           0.000013629064033675146,
           0.0000584600278064878,
           0.0001049831673272009,
           0.00009156663046309487,
           6.572100306328877e-7,
           0.000019132022928670422,
           1.8043493726895597e-8,
           0.000002851067279539726,
           0.00008229670439716645
          ],
          [
           0.000040717230696312697,
           0.000020218056602345097,
           0.00004839644566740456,
           0.000016582779838034895,
           0.000011976134534624777,
           0.000001894682813649021,
           6.163917709567667e-7,
           5.129345536509375e-7,
           0.0000075249623582739,
           0.00008574781353259874
          ],
          [
           0.000024978735047947863,
           0.000014995677300428842,
           0.000025313476250276903,
           0.000027578372850349383,
           0.00004816448499451187,
           0.0000022474075619594013,
           0.000003791858542272928,
           0.0000018743905281852285,
           0.000023537715515640798,
           0.00020969983888727034
          ],
          [
           0.00005645340494500546,
           0.000012994685342601983,
           0.000010423804643494099,
           0.000014000295458202105,
           0.000006761139028968206,
           0.000005589606457565577,
           0.000025568227946937547,
           7.874458215039169e-7,
           0.0000254313060233748,
           0.000025278510198781522
          ],
          [
           0.00007901703894085905,
           0.000004143477010888392,
           0.00003638992858032551,
           0.00001570085776497347,
           0.00000579148580880482,
           0.000005130833271245769,
           0.0000044161629384838415,
           0.00000361614309278098,
           0.0000036724015347343988,
           0.00006885703848529035
          ],
          [
           0.000005451670005783133,
           0.0000031989698148561036,
           0.0000018715191048459825,
           0.000023863358097687223,
           0.00002817823809969981,
           7.166651087389218e-8,
           0.000014359934099182197,
           3.315955865218316e-7,
           0.000005238063781311373,
           0.000007932202850829595
          ],
          [
           0.000004958482864205652,
           0.0000016394721107239984,
           3.7665903169717404e-7,
           0.000003325629182720495,
           0.000009368633194584678,
           0.0000012852215156976564,
           0.000004792011728921803,
           0.0000026082753222933653,
           0.000006076953324128744,
           0.00002396030635587068
          ],
          [
           0.0000012239029929590095,
           0.000004009719501376906,
           0.0000042580115639391675,
           0.000008789564299483431,
           0.000046326887305785456,
           0.000010377543877688289,
           0.000009511299453030216,
           0.000023748116428665998,
           0.000001884184224239515,
           0.000007932617100925721
          ],
          [
           0.00019212565845634188,
           0.000011365814695709075,
           0.000004432164868741994,
           0.0000032192745701099022,
           0.000007501724055027907,
           0.000013666235654817179,
           0.000013760316623109421,
           0.000022603688545049058,
           0.00006294532382286745,
           1.7988542119872708e-7
          ],
          [
           0.000005234414413770985,
           0.000007147286545662208,
           0.000013894386903975708,
           0.000004803188289861055,
           0.00002345923738522494,
           0.000049757625270493325,
           0.000010437901113075041,
           0.000005698175182142951,
           0.0000050246907433970225,
           0.000005025856907119983
          ]
         ]
        },
        {
         "colorbar": {
          "len": 0.4,
          "thickness": 10,
          "tickfont": {
           "size": 8
          },
          "title": {
           "font": {
            "size": 10
           },
           "side": "right",
           "text": "Feature 4"
          },
          "xpad": 20,
          "ypad": 10
         },
         "colorscale": [
          [
           0,
           "#0d0887"
          ],
          [
           0.1111111111111111,
           "#46039f"
          ],
          [
           0.2222222222222222,
           "#7201a8"
          ],
          [
           0.3333333333333333,
           "#9c179e"
          ],
          [
           0.4444444444444444,
           "#bd3786"
          ],
          [
           0.5555555555555556,
           "#d8576b"
          ],
          [
           0.6666666666666666,
           "#ed7953"
          ],
          [
           0.7777777777777778,
           "#fb9f3a"
          ],
          [
           0.8888888888888888,
           "#fdca26"
          ],
          [
           1,
           "#f0f921"
          ]
         ],
         "showscale": false,
         "type": "heatmap",
         "xaxis": "x4",
         "yaxis": "y4",
         "z": [
          [
           0.00006312539236671418,
           0.000009336372719500742,
           0.000002846506701052462,
           0.00007272323260214437,
           0.00006932973059189868,
           0.00000571299329947839,
           0.00002195076158779308,
           0.000020967918548371426,
           0.000009643274559082793,
           0.0000631158833771801
          ],
          [
           0.00003111292288805032,
           0.000017229953258509686,
           0.0000388134486224128,
           0.000017495231853098658,
           0.000009899636227744753,
           0.000009460328534144785,
           0.000010013218432889939,
           0.000014474918888123752,
           0.000007842191493117736,
           0.00006531533681520719
          ],
          [
           0.00002327665231744521,
           0.000014697686963281416,
           0.00002222765587028118,
           0.00003416835382850072,
           0.00004453198418525979,
           0.0000066194581534618625,
           0.000009436059234564667,
           0.000010571195473466697,
           0.00001127793965309821,
           0.00003756772690713642
          ],
          [
           0.000038256435606729786,
           0.00001018051051528666,
           0.00001456167666136858,
           0.000019639210913726692,
           0.000011277810493834462,
           0.000008785046635069185,
           0.000021720937206899085,
           0.000010904580749298233,
           0.00001860958035056087,
           7.346080246096896e-7
          ],
          [
           0.00008960048930438364,
           0.000007081646879683417,
           0.000019758796838636496,
           0.00001621540375819202,
           0.000008502323776718712,
           0.000008117428806250164,
           0.000009270572225664094,
           0.000011097001472157547,
           0.00001150421085227755,
           0.000050673811164646955
          ],
          [
           0.000008017139526773286,
           0.000006303589486537247,
           0.000005307934731579439,
           0.000018887896950514202,
           0.000021611961231498962,
           0.000004016564529345038,
           0.000015308438580839445,
           0.000008107063838517125,
           0.00001698663132380612,
           0.000011414434777171433
          ],
          [
           0.000007626282634758674,
           0.000005126225144875562,
           0.000004123793670965867,
           0.000004948765440471813,
           0.000010183397688848189,
           0.00000482795769561676,
           0.000007861273739651479,
           0.00000528114271897098,
           0.000013170893574648089,
           0.000013491508732641745
          ],
          [
           0.000004837238505806758,
           0.000007297988184836058,
           0.000002003196946103414,
           0.00000495048234453527,
           0.000028981852341998212,
           0.000011064304479122954,
           0.000014040805842573539,
           0.00001750937801937554,
           0.000009281802090713422,
           0.000011950082985769453
          ],
          [
           0.00015248816913645752,
           0.000017236980026007818,
           0.000007057185302016332,
           0.000003574566889444894,
           0.000007323034928792445,
           0.000015053111949392278,
           0.000005988110370218357,
           0.00002870066535051438,
           0.000038590261145776005,
           0.000004703085740678423
          ],
          [
           0.000007836912652053714,
           0.00000884941738199608,
           0.000009320553885233107,
           0.0000068075150258447165,
           0.000022424105084812225,
           0.00004699483376817076,
           0.000010158968032236666,
           0.000008050632184319216,
           2.8302958945410983e-7,
           0.000007600686941678975
          ]
         ]
        },
        {
         "colorbar": {
          "len": 0.4,
          "thickness": 10,
          "tickfont": {
           "size": 8
          },
          "title": {
           "font": {
            "size": 10
           },
           "side": "right",
           "text": "Feature 5"
          },
          "xpad": 20,
          "ypad": 10
         },
         "colorscale": [
          [
           0,
           "#0d0887"
          ],
          [
           0.1111111111111111,
           "#46039f"
          ],
          [
           0.2222222222222222,
           "#7201a8"
          ],
          [
           0.3333333333333333,
           "#9c179e"
          ],
          [
           0.4444444444444444,
           "#bd3786"
          ],
          [
           0.5555555555555556,
           "#d8576b"
          ],
          [
           0.6666666666666666,
           "#ed7953"
          ],
          [
           0.7777777777777778,
           "#fb9f3a"
          ],
          [
           0.8888888888888888,
           "#fdca26"
          ],
          [
           1,
           "#f0f921"
          ]
         ],
         "showscale": true,
         "type": "heatmap",
         "xaxis": "x5",
         "yaxis": "y5",
         "z": [
          [
           0.012883793199528312,
           0.00606141828981143,
           0.016690573217273796,
           0.037414791594210524,
           0.0673238902084181,
           0.017575552205005365,
           0.004960225449184654,
           0.0008932228382263124,
           0.0009266284665201136,
           0.0392085325894751
          ],
          [
           0.018383181846782646,
           0.015345989300872774,
           0.10932710425818874,
           0.18969435862558776,
           0.20286452092126858,
           0.04519262204057064,
           0.0028624235791734794,
           0.0007730210188203433,
           0.000467993961983582,
           0.003174917971802362
          ],
          [
           0.012254540466570304,
           0.0203323478102553,
           0.15772757385391137,
           0.3163526316013786,
           0.19321860146077727,
           0.03958381277788827,
           0.004505407298976697,
           0.0008243265219853969,
           0.002636180835387803,
           0.002888198032296313
          ],
          [
           0.011278302130627148,
           0.01021289601454824,
           0.07479818718120404,
           0.15595103461436755,
           0.07890264480975127,
           0.013090202993189807,
           0.004938667580486022,
           0.0006440875245880794,
           0.0051801837612460285,
           0.002759806174200555
          ],
          [
           0.008396084383071788,
           0.0039209463592392154,
           0.012322714452306717,
           0.020031822360845986,
           0.014655402136026254,
           0.00879521457325186,
           0.006305027623548297,
           0.00401534835782248,
           0.004353631707855062,
           0.014053193488777017
          ],
          [
           0.006209102518175031,
           0.007429289696571305,
           0.007751942034332111,
           0.008877756809287526,
           0.008298872149993046,
           0.00871269892129034,
           0.006955720506912202,
           0.0010229221800558627,
           0.018176148993341197,
           0.07920647084071003
          ],
          [
           0.005967350365633752,
           0.0069357428213541435,
           0.007613062981451963,
           0.007870036435101513,
           0.006104000495083293,
           0.0010768717396133184,
           0.006029944725206122,
           0.005306009593608249,
           0.0715676999164427,
           0.29358758266965396
          ],
          [
           0.0077710827147012594,
           0.016622471889251457,
           0.0034655095973290615,
           0.0021624094985413117,
           0.006413660483274743,
           0.006956992291750822,
           0.022867355181947026,
           0.007953734328785074,
           0.024853259200782133,
           0.08341761341072224
          ],
          [
           0.019707097112884948,
           0.16151686714255975,
           0.01422825677788864,
           0.0012200874626946757,
           0.0012617094299549392,
           0.0026557623622719697,
           0.0020829322609456045,
           0.016495967124599383,
           0.010113166470941756,
           0.010244524109398745
          ],
          [
           0.0009372331379090403,
           0.014263335298837472,
           0.013314096964737735,
           0.0046642731232845675,
           0.007328992008351304,
           0.010068813489378488,
           0.006793820147253094,
           0.0005896678253427957,
           0.0013189904702663642,
           0.0005956905502854006
          ]
         ]
        },
        {
         "colorbar": {
          "len": 0.4,
          "thickness": 10,
          "tickfont": {
           "size": 8
          },
          "title": {
           "font": {
            "size": 10
           },
           "side": "right",
           "text": "Feature 6"
          },
          "xpad": 20,
          "ypad": 10
         },
         "colorscale": [
          [
           0,
           "#0d0887"
          ],
          [
           0.1111111111111111,
           "#46039f"
          ],
          [
           0.2222222222222222,
           "#7201a8"
          ],
          [
           0.3333333333333333,
           "#9c179e"
          ],
          [
           0.4444444444444444,
           "#bd3786"
          ],
          [
           0.5555555555555556,
           "#d8576b"
          ],
          [
           0.6666666666666666,
           "#ed7953"
          ],
          [
           0.7777777777777778,
           "#fb9f3a"
          ],
          [
           0.8888888888888888,
           "#fdca26"
          ],
          [
           1,
           "#f0f921"
          ]
         ],
         "showscale": false,
         "type": "heatmap",
         "xaxis": "x6",
         "yaxis": "y6",
         "z": [
          [
           0.11040415921594962,
           0.03758199505515573,
           0.00665803104685971,
           0.11136143590625303,
           0.07273894304768826,
           0.00021092233849585935,
           0.07222706282405243,
           0.001359678856668606,
           0.0005713565591399457,
           0.07272318539463457
          ],
          [
           0.16595212159066652,
           0.06797341242526878,
           0.029684497326504723,
           0.0014438522511527117,
           0.001053492533732602,
           0.0006509886881398199,
           0.0013463526665830618,
           0.0012633379942603145,
           0.0005521747276889545,
           0.3290808602760372
          ],
          [
           0.08523704376071022,
           0.041176067247427936,
           0.00910021548639587,
           0.0018797804094107015,
           0.04684773531236863,
           0.0186579864392475,
           0.011325246473307017,
           0.0009911723802019635,
           0.005336540846093078,
           0.02695358565758309
          ],
          [
           0.13286356380610873,
           0.021645807592127576,
           0.022840986398499893,
           0.0017880321664431667,
           0.032695046952343494,
           0.023558402954338406,
           0.11362777597996813,
           0.0007513721844477789,
           0.281296123356655,
           0.00005907461756272247
          ],
          [
           0.2302972611636917,
           0.01603319549074732,
           0.3823840147450041,
           0.05318894595253803,
           0.024849705742740858,
           0.022381762354726796,
           0.07021939848366472,
           0.01687196326804821,
           0.02404390313754108,
           0.08999774348416524
          ],
          [
           0.02139071752651251,
           0.027480481477175456,
           0.0163925432603936,
           0.38496773801957906,
           0.4498659989924805,
           0.0175486836259468,
           0.026844932754415803,
           0.0011530456517367094,
           0.007897277797430524,
           0.0017816639450103158
          ],
          [
           0.02326887455981847,
           0.022886936804633214,
           0.02313825404573738,
           0.043517140722941605,
           0.02579237198466744,
           0.004575158937298599,
           0.01333146078743048,
           0.010280757435665689,
           0.0030380857850069933,
           0.0029166795176458968
          ],
          [
           0.020304195637024135,
           0.05146213992663197,
           0.010801053081786445,
           0.009200254556953108,
           0.027188478618128384,
           0.017213587247401484,
           0.04864579984181696,
           0.07631241145264599,
           0.019645522788028225,
           0.008072377068072428
          ],
          [
           0.04073039681856021,
           0.006031075207122272,
           0.02298951246007864,
           0.0025910940527271733,
           0.007402693479892169,
           0.4884038282639317,
           0.007905725925906236,
           0.015167648805422047,
           0.17125937383795825,
           0.02836361371464643
          ],
          [
           0.001664382472840458,
           0.02130212974782021,
           0.007943239113323487,
           0.010942644953002826,
           0.3165540572453999,
           0.18318001657804042,
           0.026909852842696806,
           0.002708928092757624,
           0.0013398279432903827,
           0.0024426935864871376
          ]
         ]
        },
        {
         "colorbar": {
          "len": 0.4,
          "thickness": 10,
          "tickfont": {
           "size": 8
          },
          "title": {
           "font": {
            "size": 10
           },
           "side": "right",
           "text": "Feature 7"
          },
          "xpad": 20,
          "ypad": 10
         },
         "colorscale": [
          [
           0,
           "#0d0887"
          ],
          [
           0.1111111111111111,
           "#46039f"
          ],
          [
           0.2222222222222222,
           "#7201a8"
          ],
          [
           0.3333333333333333,
           "#9c179e"
          ],
          [
           0.4444444444444444,
           "#bd3786"
          ],
          [
           0.5555555555555556,
           "#d8576b"
          ],
          [
           0.6666666666666666,
           "#ed7953"
          ],
          [
           0.7777777777777778,
           "#fb9f3a"
          ],
          [
           0.8888888888888888,
           "#fdca26"
          ],
          [
           1,
           "#f0f921"
          ]
         ],
         "showscale": false,
         "type": "heatmap",
         "xaxis": "x7",
         "yaxis": "y7",
         "z": [
          [
           0.40008244507026763,
           0.40653913880660086,
           0.4385420629701247,
           0.40002717245268715,
           0.400005783118548,
           0.40004355364103455,
           0.40107086184755664,
           0.4009256461022539,
           0.6120335616971752,
           0.400041538210822
          ],
          [
           0.40019752881925974,
           0.40063304219515866,
           0.4004225739008916,
           0.45658598271077905,
           0.4002674001481822,
           0.4031423135325025,
           0.42552361488387647,
           0.4024719299477857,
           0.4046493537283089,
           0.40008225351895377
          ],
          [
           0.40054457637860996,
           0.4011441475489185,
           0.40045664250714424,
           0.4000143058518804,
           0.4000141082784347,
           0.4001122200210586,
           0.4025743876468791,
           0.40177366556308647,
           0.4007178186593854,
           0.40340122127446815
          ],
          [
           0.40041115370921143,
           0.4020640954600603,
           0.40287391854420646,
           0.4043908023142647,
           0.4000218583757978,
           0.4035183580379886,
           0.4002558564785087,
           0.4013410325145835,
           0.4035573433850853,
           0.6872139884722165
          ],
          [
           0.40111038237697877,
           0.40494383195064076,
           0.4001834707279298,
           0.40004831140064784,
           0.40063768405606476,
           0.4000301314566802,
           0.4000742325150402,
           0.4028914402915486,
           0.4005691877370051,
           0.4035315549227599
          ],
          [
           0.4039497011608248,
           0.40151628825438457,
           0.40114479005835596,
           0.4000488579036046,
           0.40000467524758937,
           0.4000263833079243,
           0.4003389748600151,
           0.40576817346823113,
           0.4004867677273823,
           0.5075501030331527
          ],
          [
           0.40386680546301523,
           0.4012276413002951,
           0.4001903523358855,
           0.4000728747656342,
           0.4000985232476013,
           0.40591576437795457,
           0.4026286260238097,
           0.40380776508033595,
           0.4014815355782444,
           0.4001631795694495
          ],
          [
           0.4008595582111754,
           0.4004263517121633,
           0.4811944375981837,
           0.4057273754637866,
           0.40258385833732513,
           0.40388466193003425,
           0.4004603247927818,
           0.4012510746753998,
           0.4008021458708962,
           0.4021607260286017
          ],
          [
           0.40011549938123536,
           0.4012416619581657,
           0.4022395507543003,
           0.4031532860652752,
           0.4066369551022345,
           0.40041316219438683,
           0.40009078404353415,
           0.40011464713538114,
           0.40126790161974113,
           0.4002389071923618
          ],
          [
           0.4152001445788522,
           0.4001110373084106,
           0.4013791184696417,
           0.4052469374268992,
           0.40114774290016936,
           0.4000457289785923,
           0.4000048037723598,
           0.41155197931145526,
           0.5197319223880941,
           0.41261741296957916
          ]
         ]
        },
        {
         "colorbar": {
          "len": 0.4,
          "thickness": 10,
          "tickfont": {
           "size": 8
          },
          "title": {
           "font": {
            "size": 10
           },
           "side": "right",
           "text": "Feature 8"
          },
          "xpad": 20,
          "ypad": 10
         },
         "colorscale": [
          [
           0,
           "#0d0887"
          ],
          [
           0.1111111111111111,
           "#46039f"
          ],
          [
           0.2222222222222222,
           "#7201a8"
          ],
          [
           0.3333333333333333,
           "#9c179e"
          ],
          [
           0.4444444444444444,
           "#bd3786"
          ],
          [
           0.5555555555555556,
           "#d8576b"
          ],
          [
           0.6666666666666666,
           "#ed7953"
          ],
          [
           0.7777777777777778,
           "#fb9f3a"
          ],
          [
           0.8888888888888888,
           "#fdca26"
          ],
          [
           1,
           "#f0f921"
          ]
         ],
         "showscale": false,
         "type": "heatmap",
         "xaxis": "x8",
         "yaxis": "y8",
         "z": [
          [
           3.258712056636534e-67,
           4.0378007243555445e-60,
           1.0470696964521603e-51,
           2.0484870163654794e-40,
           7.315657613073339e-31,
           4.6743054636219583e-23,
           5.4874337430910046e-17,
           3.424914248647481e-13,
           4.89483140058625e-10,
           3.807457960223932e-9
          ],
          [
           4.860904072803541e-54,
           6.058490687149266e-47,
           7.116124019218137e-42,
           4.4339432951835777e-36,
           1.56724787477007e-26,
           8.017722311604321e-19,
           1.2341567754654509e-12,
           2.6265673784174083e-8,
           0.000011096219577504154,
           0.00008372888751737831
          ],
          [
           7.0355070943419766e-43,
           8.705897028997943e-36,
           0.33388083263753465,
           5.144710371049009e-28,
           6.389249687212335e-24,
           4.153667609800132e-16,
           5.053418690636719e-10,
           0.0000071997813465398894,
           0.0034925244104920326,
           0.03318546601201573
          ],
          [
           1.1400796256394786e-31,
           1.2078915654670525e-26,
           1.4814172409108566e-21,
           1.6621888106239169e-18,
           1.774740668658711e-17,
           3.1675470335256526e-15,
           3.804897468620368e-9,
           0.00008242780351597831,
           0.03316081198964843,
           0.9050953515359195
          ],
          [
           3.3358647993394988e-21,
           2.192172859405553e-19,
           2.013748040158937e-14,
           2.4272787068356765e-11,
           2.581263189302743e-10,
           2.4307312169791177e-11,
           5.153022407472255e-10,
           0.000011302075764423989,
           0.004431481044400686,
           0.03369103037793588
          ],
          [
           4.684286209124574e-13,
           5.792769277960464e-12,
           1.7200753651783518e-9,
           0.000003361221359105274,
           0.00003779895015333465,
           0.00000344384472747243,
           2.7521760199154207e-9,
           2.6513661436017796e-8,
           0.000008472372323935717,
           0.00007542001193055838
          ],
          [
           4.443288423878925e-7,
           0.00000814473867079421,
           0.000003901998110647117,
           0.0039482756359029165,
           0.054602485477272485,
           0.0047766355618537905,
           0.000003443844727934868,
           2.527565781520095e-11,
           4.512341027839256e-10,
           7.96707651818286e-10
          ],
          [
           0.0015886206089357631,
           0.030812995627026867,
           0.0019650129401124635,
           0.05371814732903984,
           0.8686770258193915,
           0.054743314741009096,
           0.000037800640871531323,
           2.581262136283727e-10,
           4.4273257382577515e-16,
           2.9418457483426413e-15
          ],
          [
           0.030811569770280108,
           0.848119148740835,
           0.030828215989179626,
           0.0032313408915700956,
           0.05384157093063281,
           0.0047413797336281985,
           0.0000034428858519555897,
           2.4290926299862464e-11,
           1.6745368174003624e-18,
           4.8186511034376817e-23
          ],
          [
           0.0019169717352556283,
           0.02557113100848046,
           0.0019169094453365414,
           0.00000392667687388244,
           0.00003746974051008434,
           0.0000027712167200373473,
           2.7306149646777363e-9,
           2.0367056079347425e-14,
           1.1734108969533762e-21,
           1.0403789163264769e-30
          ]
         ]
        },
        {
         "colorbar": {
          "len": 0.4,
          "thickness": 10,
          "tickfont": {
           "size": 8
          },
          "title": {
           "font": {
            "size": 10
           },
           "side": "right",
           "text": "Feature 9"
          },
          "xpad": 20,
          "ypad": 10
         },
         "colorscale": [
          [
           0,
           "#0d0887"
          ],
          [
           0.1111111111111111,
           "#46039f"
          ],
          [
           0.2222222222222222,
           "#7201a8"
          ],
          [
           0.3333333333333333,
           "#9c179e"
          ],
          [
           0.4444444444444444,
           "#bd3786"
          ],
          [
           0.5555555555555556,
           "#d8576b"
          ],
          [
           0.6666666666666666,
           "#ed7953"
          ],
          [
           0.7777777777777778,
           "#fb9f3a"
          ],
          [
           0.8888888888888888,
           "#fdca26"
          ],
          [
           1,
           "#f0f921"
          ]
         ],
         "showscale": false,
         "type": "heatmap",
         "xaxis": "x9",
         "yaxis": "y9",
         "z": [
          [
           0,
           0,
           0,
           0,
           0,
           0,
           0,
           0,
           0,
           0
          ],
          [
           0,
           0,
           0,
           0,
           0,
           0,
           0,
           0,
           0,
           0
          ],
          [
           0,
           0,
           0,
           0,
           0,
           0,
           0,
           0,
           0,
           0
          ],
          [
           0,
           0,
           0,
           0,
           0,
           0,
           0,
           0,
           0,
           0
          ],
          [
           0,
           0,
           0,
           0,
           0,
           0,
           0,
           0,
           0,
           0
          ],
          [
           0,
           0,
           0,
           0,
           0,
           0,
           0,
           0,
           0,
           0
          ],
          [
           0,
           0,
           0,
           0,
           0,
           0,
           0,
           0,
           0,
           0
          ],
          [
           0,
           0,
           0,
           0,
           0,
           0,
           0,
           0,
           0,
           0
          ],
          [
           0,
           0,
           0,
           0,
           0,
           0,
           0,
           0,
           0,
           0
          ],
          [
           0,
           0,
           0,
           0,
           0,
           0,
           0,
           0,
           0,
           0
          ]
         ]
        }
       ],
       "layout": {
        "annotations": [
         {
          "font": {
           "size": 16
          },
          "showarrow": false,
          "text": "Destination Port",
          "x": 0.06,
          "xanchor": "center",
          "xref": "paper",
          "y": 1,
          "yanchor": "bottom",
          "yref": "paper"
         },
         {
          "font": {
           "size": 16
          },
          "showarrow": false,
          "text": "Flow Duration",
          "x": 0.27999999999999997,
          "xanchor": "center",
          "xref": "paper",
          "y": 1,
          "yanchor": "bottom",
          "yref": "paper"
         },
         {
          "font": {
           "size": 16
          },
          "showarrow": false,
          "text": "Total Fwd Packets",
          "x": 0.5,
          "xanchor": "center",
          "xref": "paper",
          "y": 1,
          "yanchor": "bottom",
          "yref": "paper"
         },
         {
          "font": {
           "size": 16
          },
          "showarrow": false,
          "text": "Total Backward Packets",
          "x": 0.72,
          "xanchor": "center",
          "xref": "paper",
          "y": 1,
          "yanchor": "bottom",
          "yref": "paper"
         },
         {
          "font": {
           "size": 16
          },
          "showarrow": false,
          "text": "Fwd Packet Length Mean",
          "x": 0.94,
          "xanchor": "center",
          "xref": "paper",
          "y": 1,
          "yanchor": "bottom",
          "yref": "paper"
         },
         {
          "font": {
           "size": 16
          },
          "showarrow": false,
          "text": "Bwd Packet Length Mean",
          "x": 0.06,
          "xanchor": "center",
          "xref": "paper",
          "y": 0.4,
          "yanchor": "bottom",
          "yref": "paper"
         },
         {
          "font": {
           "size": 16
          },
          "showarrow": false,
          "text": "Flow Packets/s",
          "x": 0.27999999999999997,
          "xanchor": "center",
          "xref": "paper",
          "y": 0.4,
          "yanchor": "bottom",
          "yref": "paper"
         },
         {
          "font": {
           "size": 16
          },
          "showarrow": false,
          "text": "SYN Flag Count",
          "x": 0.5,
          "xanchor": "center",
          "xref": "paper",
          "y": 0.4,
          "yanchor": "bottom",
          "yref": "paper"
         },
         {
          "font": {
           "size": 16
          },
          "showarrow": false,
          "text": "RST Flag Count",
          "x": 0.72,
          "xanchor": "center",
          "xref": "paper",
          "y": 0.4,
          "yanchor": "bottom",
          "yref": "paper"
         }
        ],
        "height": 500,
        "showlegend": false,
        "template": {
         "data": {
          "bar": [
           {
            "error_x": {
             "color": "#2a3f5f"
            },
            "error_y": {
             "color": "#2a3f5f"
            },
            "marker": {
             "line": {
              "color": "white",
              "width": 0.5
             },
             "pattern": {
              "fillmode": "overlay",
              "size": 10,
              "solidity": 0.2
             }
            },
            "type": "bar"
           }
          ],
          "barpolar": [
           {
            "marker": {
             "line": {
              "color": "white",
              "width": 0.5
             },
             "pattern": {
              "fillmode": "overlay",
              "size": 10,
              "solidity": 0.2
             }
            },
            "type": "barpolar"
           }
          ],
          "carpet": [
           {
            "aaxis": {
             "endlinecolor": "#2a3f5f",
             "gridcolor": "#C8D4E3",
             "linecolor": "#C8D4E3",
             "minorgridcolor": "#C8D4E3",
             "startlinecolor": "#2a3f5f"
            },
            "baxis": {
             "endlinecolor": "#2a3f5f",
             "gridcolor": "#C8D4E3",
             "linecolor": "#C8D4E3",
             "minorgridcolor": "#C8D4E3",
             "startlinecolor": "#2a3f5f"
            },
            "type": "carpet"
           }
          ],
          "choropleth": [
           {
            "colorbar": {
             "outlinewidth": 0,
             "ticks": ""
            },
            "type": "choropleth"
           }
          ],
          "contour": [
           {
            "colorbar": {
             "outlinewidth": 0,
             "ticks": ""
            },
            "colorscale": [
             [
              0,
              "#0d0887"
             ],
             [
              0.1111111111111111,
              "#46039f"
             ],
             [
              0.2222222222222222,
              "#7201a8"
             ],
             [
              0.3333333333333333,
              "#9c179e"
             ],
             [
              0.4444444444444444,
              "#bd3786"
             ],
             [
              0.5555555555555556,
              "#d8576b"
             ],
             [
              0.6666666666666666,
              "#ed7953"
             ],
             [
              0.7777777777777778,
              "#fb9f3a"
             ],
             [
              0.8888888888888888,
              "#fdca26"
             ],
             [
              1,
              "#f0f921"
             ]
            ],
            "type": "contour"
           }
          ],
          "contourcarpet": [
           {
            "colorbar": {
             "outlinewidth": 0,
             "ticks": ""
            },
            "type": "contourcarpet"
           }
          ],
          "heatmap": [
           {
            "colorbar": {
             "outlinewidth": 0,
             "ticks": ""
            },
            "colorscale": [
             [
              0,
              "#0d0887"
             ],
             [
              0.1111111111111111,
              "#46039f"
             ],
             [
              0.2222222222222222,
              "#7201a8"
             ],
             [
              0.3333333333333333,
              "#9c179e"
             ],
             [
              0.4444444444444444,
              "#bd3786"
             ],
             [
              0.5555555555555556,
              "#d8576b"
             ],
             [
              0.6666666666666666,
              "#ed7953"
             ],
             [
              0.7777777777777778,
              "#fb9f3a"
             ],
             [
              0.8888888888888888,
              "#fdca26"
             ],
             [
              1,
              "#f0f921"
             ]
            ],
            "type": "heatmap"
           }
          ],
          "heatmapgl": [
           {
            "colorbar": {
             "outlinewidth": 0,
             "ticks": ""
            },
            "colorscale": [
             [
              0,
              "#0d0887"
             ],
             [
              0.1111111111111111,
              "#46039f"
             ],
             [
              0.2222222222222222,
              "#7201a8"
             ],
             [
              0.3333333333333333,
              "#9c179e"
             ],
             [
              0.4444444444444444,
              "#bd3786"
             ],
             [
              0.5555555555555556,
              "#d8576b"
             ],
             [
              0.6666666666666666,
              "#ed7953"
             ],
             [
              0.7777777777777778,
              "#fb9f3a"
             ],
             [
              0.8888888888888888,
              "#fdca26"
             ],
             [
              1,
              "#f0f921"
             ]
            ],
            "type": "heatmapgl"
           }
          ],
          "histogram": [
           {
            "marker": {
             "pattern": {
              "fillmode": "overlay",
              "size": 10,
              "solidity": 0.2
             }
            },
            "type": "histogram"
           }
          ],
          "histogram2d": [
           {
            "colorbar": {
             "outlinewidth": 0,
             "ticks": ""
            },
            "colorscale": [
             [
              0,
              "#0d0887"
             ],
             [
              0.1111111111111111,
              "#46039f"
             ],
             [
              0.2222222222222222,
              "#7201a8"
             ],
             [
              0.3333333333333333,
              "#9c179e"
             ],
             [
              0.4444444444444444,
              "#bd3786"
             ],
             [
              0.5555555555555556,
              "#d8576b"
             ],
             [
              0.6666666666666666,
              "#ed7953"
             ],
             [
              0.7777777777777778,
              "#fb9f3a"
             ],
             [
              0.8888888888888888,
              "#fdca26"
             ],
             [
              1,
              "#f0f921"
             ]
            ],
            "type": "histogram2d"
           }
          ],
          "histogram2dcontour": [
           {
            "colorbar": {
             "outlinewidth": 0,
             "ticks": ""
            },
            "colorscale": [
             [
              0,
              "#0d0887"
             ],
             [
              0.1111111111111111,
              "#46039f"
             ],
             [
              0.2222222222222222,
              "#7201a8"
             ],
             [
              0.3333333333333333,
              "#9c179e"
             ],
             [
              0.4444444444444444,
              "#bd3786"
             ],
             [
              0.5555555555555556,
              "#d8576b"
             ],
             [
              0.6666666666666666,
              "#ed7953"
             ],
             [
              0.7777777777777778,
              "#fb9f3a"
             ],
             [
              0.8888888888888888,
              "#fdca26"
             ],
             [
              1,
              "#f0f921"
             ]
            ],
            "type": "histogram2dcontour"
           }
          ],
          "mesh3d": [
           {
            "colorbar": {
             "outlinewidth": 0,
             "ticks": ""
            },
            "type": "mesh3d"
           }
          ],
          "parcoords": [
           {
            "line": {
             "colorbar": {
              "outlinewidth": 0,
              "ticks": ""
             }
            },
            "type": "parcoords"
           }
          ],
          "pie": [
           {
            "automargin": true,
            "type": "pie"
           }
          ],
          "scatter": [
           {
            "fillpattern": {
             "fillmode": "overlay",
             "size": 10,
             "solidity": 0.2
            },
            "type": "scatter"
           }
          ],
          "scatter3d": [
           {
            "line": {
             "colorbar": {
              "outlinewidth": 0,
              "ticks": ""
             }
            },
            "marker": {
             "colorbar": {
              "outlinewidth": 0,
              "ticks": ""
             }
            },
            "type": "scatter3d"
           }
          ],
          "scattercarpet": [
           {
            "marker": {
             "colorbar": {
              "outlinewidth": 0,
              "ticks": ""
             }
            },
            "type": "scattercarpet"
           }
          ],
          "scattergeo": [
           {
            "marker": {
             "colorbar": {
              "outlinewidth": 0,
              "ticks": ""
             }
            },
            "type": "scattergeo"
           }
          ],
          "scattergl": [
           {
            "marker": {
             "colorbar": {
              "outlinewidth": 0,
              "ticks": ""
             }
            },
            "type": "scattergl"
           }
          ],
          "scattermapbox": [
           {
            "marker": {
             "colorbar": {
              "outlinewidth": 0,
              "ticks": ""
             }
            },
            "type": "scattermapbox"
           }
          ],
          "scatterpolar": [
           {
            "marker": {
             "colorbar": {
              "outlinewidth": 0,
              "ticks": ""
             }
            },
            "type": "scatterpolar"
           }
          ],
          "scatterpolargl": [
           {
            "marker": {
             "colorbar": {
              "outlinewidth": 0,
              "ticks": ""
             }
            },
            "type": "scatterpolargl"
           }
          ],
          "scatterternary": [
           {
            "marker": {
             "colorbar": {
              "outlinewidth": 0,
              "ticks": ""
             }
            },
            "type": "scatterternary"
           }
          ],
          "surface": [
           {
            "colorbar": {
             "outlinewidth": 0,
             "ticks": ""
            },
            "colorscale": [
             [
              0,
              "#0d0887"
             ],
             [
              0.1111111111111111,
              "#46039f"
             ],
             [
              0.2222222222222222,
              "#7201a8"
             ],
             [
              0.3333333333333333,
              "#9c179e"
             ],
             [
              0.4444444444444444,
              "#bd3786"
             ],
             [
              0.5555555555555556,
              "#d8576b"
             ],
             [
              0.6666666666666666,
              "#ed7953"
             ],
             [
              0.7777777777777778,
              "#fb9f3a"
             ],
             [
              0.8888888888888888,
              "#fdca26"
             ],
             [
              1,
              "#f0f921"
             ]
            ],
            "type": "surface"
           }
          ],
          "table": [
           {
            "cells": {
             "fill": {
              "color": "#EBF0F8"
             },
             "line": {
              "color": "white"
             }
            },
            "header": {
             "fill": {
              "color": "#C8D4E3"
             },
             "line": {
              "color": "white"
             }
            },
            "type": "table"
           }
          ]
         },
         "layout": {
          "annotationdefaults": {
           "arrowcolor": "#2a3f5f",
           "arrowhead": 0,
           "arrowwidth": 1
          },
          "autotypenumbers": "strict",
          "coloraxis": {
           "colorbar": {
            "outlinewidth": 0,
            "ticks": ""
           }
          },
          "colorscale": {
           "diverging": [
            [
             0,
             "#8e0152"
            ],
            [
             0.1,
             "#c51b7d"
            ],
            [
             0.2,
             "#de77ae"
            ],
            [
             0.3,
             "#f1b6da"
            ],
            [
             0.4,
             "#fde0ef"
            ],
            [
             0.5,
             "#f7f7f7"
            ],
            [
             0.6,
             "#e6f5d0"
            ],
            [
             0.7,
             "#b8e186"
            ],
            [
             0.8,
             "#7fbc41"
            ],
            [
             0.9,
             "#4d9221"
            ],
            [
             1,
             "#276419"
            ]
           ],
           "sequential": [
            [
             0,
             "#0d0887"
            ],
            [
             0.1111111111111111,
             "#46039f"
            ],
            [
             0.2222222222222222,
             "#7201a8"
            ],
            [
             0.3333333333333333,
             "#9c179e"
            ],
            [
             0.4444444444444444,
             "#bd3786"
            ],
            [
             0.5555555555555556,
             "#d8576b"
            ],
            [
             0.6666666666666666,
             "#ed7953"
            ],
            [
             0.7777777777777778,
             "#fb9f3a"
            ],
            [
             0.8888888888888888,
             "#fdca26"
            ],
            [
             1,
             "#f0f921"
            ]
           ],
           "sequentialminus": [
            [
             0,
             "#0d0887"
            ],
            [
             0.1111111111111111,
             "#46039f"
            ],
            [
             0.2222222222222222,
             "#7201a8"
            ],
            [
             0.3333333333333333,
             "#9c179e"
            ],
            [
             0.4444444444444444,
             "#bd3786"
            ],
            [
             0.5555555555555556,
             "#d8576b"
            ],
            [
             0.6666666666666666,
             "#ed7953"
            ],
            [
             0.7777777777777778,
             "#fb9f3a"
            ],
            [
             0.8888888888888888,
             "#fdca26"
            ],
            [
             1,
             "#f0f921"
            ]
           ]
          },
          "colorway": [
           "#636efa",
           "#EF553B",
           "#00cc96",
           "#ab63fa",
           "#FFA15A",
           "#19d3f3",
           "#FF6692",
           "#B6E880",
           "#FF97FF",
           "#FECB52"
          ],
          "font": {
           "color": "#2a3f5f"
          },
          "geo": {
           "bgcolor": "white",
           "lakecolor": "white",
           "landcolor": "white",
           "showlakes": true,
           "showland": true,
           "subunitcolor": "#C8D4E3"
          },
          "hoverlabel": {
           "align": "left"
          },
          "hovermode": "closest",
          "mapbox": {
           "style": "light"
          },
          "paper_bgcolor": "white",
          "plot_bgcolor": "white",
          "polar": {
           "angularaxis": {
            "gridcolor": "#EBF0F8",
            "linecolor": "#EBF0F8",
            "ticks": ""
           },
           "bgcolor": "white",
           "radialaxis": {
            "gridcolor": "#EBF0F8",
            "linecolor": "#EBF0F8",
            "ticks": ""
           }
          },
          "scene": {
           "xaxis": {
            "backgroundcolor": "white",
            "gridcolor": "#DFE8F3",
            "gridwidth": 2,
            "linecolor": "#EBF0F8",
            "showbackground": true,
            "ticks": "",
            "zerolinecolor": "#EBF0F8"
           },
           "yaxis": {
            "backgroundcolor": "white",
            "gridcolor": "#DFE8F3",
            "gridwidth": 2,
            "linecolor": "#EBF0F8",
            "showbackground": true,
            "ticks": "",
            "zerolinecolor": "#EBF0F8"
           },
           "zaxis": {
            "backgroundcolor": "white",
            "gridcolor": "#DFE8F3",
            "gridwidth": 2,
            "linecolor": "#EBF0F8",
            "showbackground": true,
            "ticks": "",
            "zerolinecolor": "#EBF0F8"
           }
          },
          "shapedefaults": {
           "line": {
            "color": "#2a3f5f"
           }
          },
          "ternary": {
           "aaxis": {
            "gridcolor": "#DFE8F3",
            "linecolor": "#A2B1C6",
            "ticks": ""
           },
           "baxis": {
            "gridcolor": "#DFE8F3",
            "linecolor": "#A2B1C6",
            "ticks": ""
           },
           "bgcolor": "white",
           "caxis": {
            "gridcolor": "#DFE8F3",
            "linecolor": "#A2B1C6",
            "ticks": ""
           }
          },
          "title": {
           "x": 0.05
          },
          "xaxis": {
           "automargin": true,
           "gridcolor": "#EBF0F8",
           "linecolor": "#EBF0F8",
           "ticks": "",
           "title": {
            "standoff": 15
           },
           "zerolinecolor": "#EBF0F8",
           "zerolinewidth": 2
          },
          "yaxis": {
           "automargin": true,
           "gridcolor": "#EBF0F8",
           "linecolor": "#EBF0F8",
           "ticks": "",
           "title": {
            "standoff": 15
           },
           "zerolinecolor": "#EBF0F8",
           "zerolinewidth": 2
          }
         }
        },
        "title": {
         "text": "Codebooks pour chaque Feature (SOM)"
        },
        "width": 1200,
        "xaxis": {
         "anchor": "y",
         "domain": [
          0,
          0.12
         ]
        },
        "xaxis10": {
         "anchor": "y10",
         "domain": [
          0.88,
          1
         ]
        },
        "xaxis2": {
         "anchor": "y2",
         "domain": [
          0.22,
          0.33999999999999997
         ]
        },
        "xaxis3": {
         "anchor": "y3",
         "domain": [
          0.44,
          0.56
         ]
        },
        "xaxis4": {
         "anchor": "y4",
         "domain": [
          0.66,
          0.78
         ]
        },
        "xaxis5": {
         "anchor": "y5",
         "domain": [
          0.88,
          1
         ]
        },
        "xaxis6": {
         "anchor": "y6",
         "domain": [
          0,
          0.12
         ]
        },
        "xaxis7": {
         "anchor": "y7",
         "domain": [
          0.22,
          0.33999999999999997
         ]
        },
        "xaxis8": {
         "anchor": "y8",
         "domain": [
          0.44,
          0.56
         ]
        },
        "xaxis9": {
         "anchor": "y9",
         "domain": [
          0.66,
          0.78
         ]
        },
        "yaxis": {
         "anchor": "x",
         "domain": [
          0.6000000000000001,
          1
         ]
        },
        "yaxis10": {
         "anchor": "x10",
         "domain": [
          0,
          0.4
         ]
        },
        "yaxis2": {
         "anchor": "x2",
         "domain": [
          0.6000000000000001,
          1
         ]
        },
        "yaxis3": {
         "anchor": "x3",
         "domain": [
          0.6000000000000001,
          1
         ]
        },
        "yaxis4": {
         "anchor": "x4",
         "domain": [
          0.6000000000000001,
          1
         ]
        },
        "yaxis5": {
         "anchor": "x5",
         "domain": [
          0.6000000000000001,
          1
         ]
        },
        "yaxis6": {
         "anchor": "x6",
         "domain": [
          0,
          0.4
         ]
        },
        "yaxis7": {
         "anchor": "x7",
         "domain": [
          0,
          0.4
         ]
        },
        "yaxis8": {
         "anchor": "x8",
         "domain": [
          0,
          0.4
         ]
        },
        "yaxis9": {
         "anchor": "x9",
         "domain": [
          0,
          0.4
         ]
        }
       }
      }
     },
     "metadata": {},
     "output_type": "display_data"
    }
   ],
   "source": [
    "# Définition des paramètres pour les sous-graphiques\n",
    "num_features = X_scaled.shape[1]\n",
    "cols = 5  # Nombre de colonnes pour les subplots\n",
    "rows = int(np.ceil(num_features / cols))  # Nombre de lignes basé sur les features\n",
    "\n",
    "# Initialisation des sous-graphiques\n",
    "fig = make_subplots(\n",
    "    rows=rows,\n",
    "    cols=cols,\n",
    "    subplot_titles=[f\"{feature}\" for i, feature in enumerate(X.columns)],\n",
    "    horizontal_spacing=0.1,  # Espacement horizontal entre les subplots\n",
    "    vertical_spacing=0.2,    # Espacement vertical entre les subplots\n",
    ")\n",
    "\n",
    "# Ajouter chaque codebook (feature) à un subplot\n",
    "for i in range(num_features):\n",
    "    row = i // cols + 1\n",
    "    col = i % cols + 1\n",
    "    fig.add_trace(\n",
    "        go.Heatmap(\n",
    "            z=som.get_weights()[:, :, i],\n",
    "            colorscale=\"plasma\",\n",
    "            colorbar=dict(\n",
    "                title=f\"Feature {i+1}\",\n",
    "                titleside=\"right\",\n",
    "                titlefont=dict(size=10),\n",
    "                tickfont=dict(size=8),\n",
    "                len=0.4,\n",
    "                thickness=10,\n",
    "                xpad=20,\n",
    "                ypad=10,\n",
    "            ),\n",
    "            showscale=(col == cols),\n",
    "        ),\n",
    "        row=row,\n",
    "        col=col,\n",
    "    )\n",
    "    \n",
    "fig.update_layout(\n",
    "    title=\"Codebooks pour chaque Feature (SOM)\",\n",
    "    height=250 * rows,\n",
    "    width=1200,\n",
    "    showlegend=False,\n",
    "    template=\"plotly_white\",\n",
    ")\n",
    "fig.show()\n"
   ]
  },
  {
   "cell_type": "markdown",
   "metadata": {},
   "source": [
    "Les codebooks montrent des zones où les valeurs sont fortement activées (en jaune). \n",
    "\n",
    "--> Pourrait indiquer que certains ports ou durées de flux spécifiques sont particulièrement représentatifs des données associées à ces neurones. \n",
    "\n",
    "--> Peut refléter des comportements spécifiques, comme des attaques ciblant des ports particuliers ou des durées anormalement longues dans les flux."
   ]
  },
  {
   "cell_type": "markdown",
   "metadata": {},
   "source": [
    "Contrairement aux autres matrices, la caractéristique RST Flag Count semble uniformément distribuée, ce qui indique qu’elle a peu d’impact discriminant dans l’organisation des clusters, qu’elle est moins représentée dans les données. On le confirme via une description statistique incluant moyenne, variance et écart-type de la caractéristique :"
   ]
  },
  {
   "cell_type": "code",
   "execution_count": 24,
   "metadata": {},
   "outputs": [
    {
     "name": "stdout",
     "output_type": "stream",
     "text": [
      "count    283077.000000\n",
      "mean          0.000187\n",
      "std           0.013682\n",
      "min           0.000000\n",
      "25%           0.000000\n",
      "50%           0.000000\n",
      "75%           0.000000\n",
      "max           1.000000\n",
      "Name: RST Flag Count, dtype: float64\n"
     ]
    }
   ],
   "source": [
    "print(data[\"RST Flag Count\"].describe())"
   ]
  },
  {
   "cell_type": "markdown",
   "metadata": {},
   "source": [
    "#### U-Matrix"
   ]
  },
  {
   "cell_type": "markdown",
   "metadata": {},
   "source": [
    "La U-Matrix (Unified Distance Matrix) est une représentation visuelle qui met en évidence les distances entre les neurones adjacents d’une carte auto-organisée (SOM). Elle permet de comprendre la structure des clusters formés par les données."
   ]
  },
  {
   "cell_type": "code",
   "execution_count": 28,
   "metadata": {},
   "outputs": [
    {
     "data": {
      "application/vnd.plotly.v1+json": {
       "config": {
        "plotlyServerURL": "https://plot.ly"
       },
       "data": [
        {
         "colorbar": {
          "title": {
           "text": "Distance"
          }
         },
         "colorscale": [
          [
           0,
           "#0d0887"
          ],
          [
           0.1111111111111111,
           "#46039f"
          ],
          [
           0.2222222222222222,
           "#7201a8"
          ],
          [
           0.3333333333333333,
           "#9c179e"
          ],
          [
           0.4444444444444444,
           "#bd3786"
          ],
          [
           0.5555555555555556,
           "#d8576b"
          ],
          [
           0.6666666666666666,
           "#ed7953"
          ],
          [
           0.7777777777777778,
           "#fb9f3a"
          ],
          [
           0.8888888888888888,
           "#fdca26"
          ],
          [
           1,
           "#f0f921"
          ]
         ],
         "showscale": true,
         "type": "heatmap",
         "z": [
          [
           0.19177450280072061,
           0.13127731430023357,
           0.21445161953401637,
           0.38486958303246654,
           0.3871404116913626,
           0.2675996101836204,
           0.1382764883384275,
           0.22848263182016498,
           0.3145489679133356,
           0.21134962442146873
          ],
          [
           0.12010783314090509,
           0.21143660047516552,
           0.393060158743182,
           0.4268619152868278,
           0.49086566249825814,
           0.38600006054440555,
           0.2035484271852,
           0.19650216595074776,
           0.3869560811652615,
           0.31974757636695766
          ],
          [
           0.04128219125699193,
           0.17744667196484487,
           0.5218349047398761,
           0.5931361094309956,
           0.4227442295924115,
           0.25127682235175347,
           0.16442079974733922,
           0.3331137437588677,
           0.3594141418280263,
           0.5203035137907629
          ],
          [
           0.09776602576696322,
           0.2867350402066239,
           0.3702265145718984,
           0.3992609676157685,
           0.3158562255656793,
           0.1719654759899523,
           0.16672943517312744,
           0.15800057477083973,
           0.4455745175607702,
           0.6498979699257061
          ],
          [
           0.13771396262036326,
           0.4355953454761848,
           0.5202124322293102,
           0.3583708714587706,
           0.2797848660879837,
           0.16466359566360422,
           0.11970595892979177,
           0.14466241524600512,
           0.32979205018636937,
           0.3408207468960293
          ],
          [
           0.07649768616039786,
           0.15180715564468555,
           0.2199732356476914,
           0.4915400903315293,
           0.667448781365953,
           0.12388504646740335,
           0.08761217825694431,
           0.27451156697189566,
           0.25176431901153606,
           0.20655266779831039
          ],
          [
           0.0072839137072869785,
           0.017429519069305167,
           0.10618116157727671,
           0.2980627992149925,
           0.28817411299690526,
           0.220306101164539,
           0.08612032622403383,
           0.16961496427201941,
           0.21583272256803046,
           0.26494257308438923
          ],
          [
           0.13971321269383422,
           0.1615157501847842,
           0.1952749811794047,
           0.17025739601131767,
           0.7725977563749735,
           0.2143336957536335,
           0.10071863334785217,
           0.13727691709763826,
           0.26626459914326844,
           0.19987613074802416
          ],
          [
           0.1701725751721984,
           1,
           0.24410064453072255,
           0.2945158886868506,
           0.46070949558158614,
           0.4980668729845049,
           0.1449019467747962,
           0.20109448390647594,
           0.26530599731865656,
           0.18784352561498777
          ],
          [
           0.1680834261938441,
           0.25061100333770586,
           0.33662335446410846,
           0.1815353474542487,
           0.3562901208745037,
           0.20814500131630764,
           0.23457193730182385,
           0.15450472863369974,
           0.4146366025032626,
           0.10147890445196596
          ]
         ]
        },
        {
         "mode": "text",
         "showlegend": false,
         "text": [
          "Normal"
         ],
         "textfont": {
          "color": "white",
          "family": "Arial",
          "size": 8
         },
         "type": "scatter",
         "x": [
          0.5
         ],
         "y": [
          0.5
         ]
        },
        {
         "mode": "text",
         "showlegend": false,
         "text": [
          "Normal"
         ],
         "textfont": {
          "color": "white",
          "family": "Arial",
          "size": 8
         },
         "type": "scatter",
         "x": [
          1.5
         ],
         "y": [
          0.5
         ]
        },
        {
         "mode": "text",
         "showlegend": false,
         "text": [
          "Normal"
         ],
         "textfont": {
          "color": "white",
          "family": "Arial",
          "size": 8
         },
         "type": "scatter",
         "x": [
          2.5
         ],
         "y": [
          0.5
         ]
        },
        {
         "mode": "text",
         "showlegend": false,
         "text": [
          "Normal"
         ],
         "textfont": {
          "color": "white",
          "family": "Arial",
          "size": 8
         },
         "type": "scatter",
         "x": [
          3.5
         ],
         "y": [
          0.5
         ]
        },
        {
         "mode": "text",
         "showlegend": false,
         "text": [
          "Normal"
         ],
         "textfont": {
          "color": "white",
          "family": "Arial",
          "size": 8
         },
         "type": "scatter",
         "x": [
          4.5
         ],
         "y": [
          0.5
         ]
        },
        {
         "mode": "text",
         "showlegend": false,
         "text": [
          "Normal"
         ],
         "textfont": {
          "color": "white",
          "family": "Arial",
          "size": 8
         },
         "type": "scatter",
         "x": [
          5.5
         ],
         "y": [
          0.5
         ]
        },
        {
         "mode": "text",
         "showlegend": false,
         "text": [
          "Normal"
         ],
         "textfont": {
          "color": "white",
          "family": "Arial",
          "size": 8
         },
         "type": "scatter",
         "x": [
          7.5
         ],
         "y": [
          0.5
         ]
        },
        {
         "mode": "text",
         "showlegend": false,
         "text": [
          "Normal"
         ],
         "textfont": {
          "color": "white",
          "family": "Arial",
          "size": 8
         },
         "type": "scatter",
         "x": [
          8.5
         ],
         "y": [
          0.5
         ]
        },
        {
         "mode": "text",
         "showlegend": false,
         "text": [
          "Normal"
         ],
         "textfont": {
          "color": "white",
          "family": "Arial",
          "size": 8
         },
         "type": "scatter",
         "x": [
          9.5
         ],
         "y": [
          0.5
         ]
        },
        {
         "mode": "text",
         "showlegend": false,
         "text": [
          "Normal"
         ],
         "textfont": {
          "color": "white",
          "family": "Arial",
          "size": 8
         },
         "type": "scatter",
         "x": [
          0.5
         ],
         "y": [
          1.5
         ]
        },
        {
         "mode": "text",
         "showlegend": false,
         "text": [
          "Normal"
         ],
         "textfont": {
          "color": "white",
          "family": "Arial",
          "size": 8
         },
         "type": "scatter",
         "x": [
          1.5
         ],
         "y": [
          1.5
         ]
        },
        {
         "mode": "text",
         "showlegend": false,
         "text": [
          "Normal"
         ],
         "textfont": {
          "color": "white",
          "family": "Arial",
          "size": 8
         },
         "type": "scatter",
         "x": [
          2.5
         ],
         "y": [
          1.5
         ]
        },
        {
         "mode": "text",
         "showlegend": false,
         "text": [
          "Normal"
         ],
         "textfont": {
          "color": "white",
          "family": "Arial",
          "size": 8
         },
         "type": "scatter",
         "x": [
          3.5
         ],
         "y": [
          1.5
         ]
        },
        {
         "mode": "text",
         "showlegend": false,
         "text": [
          "Normal"
         ],
         "textfont": {
          "color": "white",
          "family": "Arial",
          "size": 8
         },
         "type": "scatter",
         "x": [
          4.5
         ],
         "y": [
          1.5
         ]
        },
        {
         "mode": "text",
         "showlegend": false,
         "text": [
          "Normal"
         ],
         "textfont": {
          "color": "white",
          "family": "Arial",
          "size": 8
         },
         "type": "scatter",
         "x": [
          5.5
         ],
         "y": [
          1.5
         ]
        },
        {
         "mode": "text",
         "showlegend": false,
         "text": [
          "Normal"
         ],
         "textfont": {
          "color": "white",
          "family": "Arial",
          "size": 8
         },
         "type": "scatter",
         "x": [
          6.5
         ],
         "y": [
          1.5
         ]
        },
        {
         "mode": "text",
         "showlegend": false,
         "text": [
          "Normal"
         ],
         "textfont": {
          "color": "white",
          "family": "Arial",
          "size": 8
         },
         "type": "scatter",
         "x": [
          7.5
         ],
         "y": [
          1.5
         ]
        },
        {
         "mode": "text",
         "showlegend": false,
         "text": [
          "Normal"
         ],
         "textfont": {
          "color": "white",
          "family": "Arial",
          "size": 8
         },
         "type": "scatter",
         "x": [
          8.5
         ],
         "y": [
          1.5
         ]
        },
        {
         "mode": "text",
         "showlegend": false,
         "text": [
          "Normal"
         ],
         "textfont": {
          "color": "white",
          "family": "Arial",
          "size": 8
         },
         "type": "scatter",
         "x": [
          9.5
         ],
         "y": [
          1.5
         ]
        },
        {
         "mode": "text",
         "showlegend": false,
         "text": [
          "Normal"
         ],
         "textfont": {
          "color": "white",
          "family": "Arial",
          "size": 8
         },
         "type": "scatter",
         "x": [
          0.5
         ],
         "y": [
          2.5
         ]
        },
        {
         "mode": "text",
         "showlegend": false,
         "text": [
          "Normal"
         ],
         "textfont": {
          "color": "white",
          "family": "Arial",
          "size": 8
         },
         "type": "scatter",
         "x": [
          1.5
         ],
         "y": [
          2.5
         ]
        },
        {
         "mode": "text",
         "showlegend": false,
         "text": [
          "Normal"
         ],
         "textfont": {
          "color": "white",
          "family": "Arial",
          "size": 8
         },
         "type": "scatter",
         "x": [
          2.5
         ],
         "y": [
          2.5
         ]
        },
        {
         "mode": "text",
         "showlegend": false,
         "text": [
          "Normal"
         ],
         "textfont": {
          "color": "white",
          "family": "Arial",
          "size": 8
         },
         "type": "scatter",
         "x": [
          3.5
         ],
         "y": [
          2.5
         ]
        },
        {
         "mode": "text",
         "showlegend": false,
         "text": [
          "Normal"
         ],
         "textfont": {
          "color": "white",
          "family": "Arial",
          "size": 8
         },
         "type": "scatter",
         "x": [
          4.5
         ],
         "y": [
          2.5
         ]
        },
        {
         "mode": "text",
         "showlegend": false,
         "text": [
          "Normal"
         ],
         "textfont": {
          "color": "white",
          "family": "Arial",
          "size": 8
         },
         "type": "scatter",
         "x": [
          5.5
         ],
         "y": [
          2.5
         ]
        },
        {
         "mode": "text",
         "showlegend": false,
         "text": [
          "Normal"
         ],
         "textfont": {
          "color": "white",
          "family": "Arial",
          "size": 8
         },
         "type": "scatter",
         "x": [
          6.5
         ],
         "y": [
          2.5
         ]
        },
        {
         "mode": "text",
         "showlegend": false,
         "text": [
          "Normal"
         ],
         "textfont": {
          "color": "white",
          "family": "Arial",
          "size": 8
         },
         "type": "scatter",
         "x": [
          7.5
         ],
         "y": [
          2.5
         ]
        },
        {
         "mode": "text",
         "showlegend": false,
         "text": [
          "Normal"
         ],
         "textfont": {
          "color": "white",
          "family": "Arial",
          "size": 8
         },
         "type": "scatter",
         "x": [
          8.5
         ],
         "y": [
          2.5
         ]
        },
        {
         "mode": "text",
         "showlegend": false,
         "text": [
          "Normal"
         ],
         "textfont": {
          "color": "white",
          "family": "Arial",
          "size": 8
         },
         "type": "scatter",
         "x": [
          9.5
         ],
         "y": [
          2.5
         ]
        },
        {
         "mode": "text",
         "showlegend": false,
         "text": [
          "Normal"
         ],
         "textfont": {
          "color": "white",
          "family": "Arial",
          "size": 8
         },
         "type": "scatter",
         "x": [
          0.5
         ],
         "y": [
          3.5
         ]
        },
        {
         "mode": "text",
         "showlegend": false,
         "text": [
          "Normal"
         ],
         "textfont": {
          "color": "white",
          "family": "Arial",
          "size": 8
         },
         "type": "scatter",
         "x": [
          1.5
         ],
         "y": [
          3.5
         ]
        },
        {
         "mode": "text",
         "showlegend": false,
         "text": [
          "Normal"
         ],
         "textfont": {
          "color": "white",
          "family": "Arial",
          "size": 8
         },
         "type": "scatter",
         "x": [
          2.5
         ],
         "y": [
          3.5
         ]
        },
        {
         "mode": "text",
         "showlegend": false,
         "text": [
          "Normal"
         ],
         "textfont": {
          "color": "white",
          "family": "Arial",
          "size": 8
         },
         "type": "scatter",
         "x": [
          3.5
         ],
         "y": [
          3.5
         ]
        },
        {
         "mode": "text",
         "showlegend": false,
         "text": [
          "Normal"
         ],
         "textfont": {
          "color": "white",
          "family": "Arial",
          "size": 8
         },
         "type": "scatter",
         "x": [
          5.5
         ],
         "y": [
          3.5
         ]
        },
        {
         "mode": "text",
         "showlegend": false,
         "text": [
          "Normal"
         ],
         "textfont": {
          "color": "white",
          "family": "Arial",
          "size": 8
         },
         "type": "scatter",
         "x": [
          7.5
         ],
         "y": [
          3.5
         ]
        },
        {
         "mode": "text",
         "showlegend": false,
         "text": [
          "Normal"
         ],
         "textfont": {
          "color": "white",
          "family": "Arial",
          "size": 8
         },
         "type": "scatter",
         "x": [
          8.5
         ],
         "y": [
          3.5
         ]
        },
        {
         "mode": "text",
         "showlegend": false,
         "text": [
          "Normal"
         ],
         "textfont": {
          "color": "white",
          "family": "Arial",
          "size": 8
         },
         "type": "scatter",
         "x": [
          9.5
         ],
         "y": [
          3.5
         ]
        },
        {
         "mode": "text",
         "showlegend": false,
         "text": [
          "Normal"
         ],
         "textfont": {
          "color": "white",
          "family": "Arial",
          "size": 8
         },
         "type": "scatter",
         "x": [
          0.5
         ],
         "y": [
          4.5
         ]
        },
        {
         "mode": "text",
         "showlegend": false,
         "text": [
          "PortScan"
         ],
         "textfont": {
          "color": "white",
          "family": "Arial",
          "size": 8
         },
         "type": "scatter",
         "x": [
          1.5
         ],
         "y": [
          4.5
         ]
        },
        {
         "mode": "text",
         "showlegend": false,
         "text": [
          "Normal"
         ],
         "textfont": {
          "color": "white",
          "family": "Arial",
          "size": 8
         },
         "type": "scatter",
         "x": [
          2.5
         ],
         "y": [
          4.5
         ]
        },
        {
         "mode": "text",
         "showlegend": false,
         "text": [
          "Normal"
         ],
         "textfont": {
          "color": "white",
          "family": "Arial",
          "size": 8
         },
         "type": "scatter",
         "x": [
          4.5
         ],
         "y": [
          4.5
         ]
        },
        {
         "mode": "text",
         "showlegend": false,
         "text": [
          "Normal"
         ],
         "textfont": {
          "color": "white",
          "family": "Arial",
          "size": 8
         },
         "type": "scatter",
         "x": [
          6.5
         ],
         "y": [
          4.5
         ]
        },
        {
         "mode": "text",
         "showlegend": false,
         "text": [
          "Normal"
         ],
         "textfont": {
          "color": "white",
          "family": "Arial",
          "size": 8
         },
         "type": "scatter",
         "x": [
          7.5
         ],
         "y": [
          4.5
         ]
        },
        {
         "mode": "text",
         "showlegend": false,
         "text": [
          "Normal"
         ],
         "textfont": {
          "color": "white",
          "family": "Arial",
          "size": 8
         },
         "type": "scatter",
         "x": [
          9.5
         ],
         "y": [
          4.5
         ]
        },
        {
         "mode": "text",
         "showlegend": false,
         "text": [
          "Normal"
         ],
         "textfont": {
          "color": "white",
          "family": "Arial",
          "size": 8
         },
         "type": "scatter",
         "x": [
          0.5
         ],
         "y": [
          5.5
         ]
        },
        {
         "mode": "text",
         "showlegend": false,
         "text": [
          "Normal"
         ],
         "textfont": {
          "color": "white",
          "family": "Arial",
          "size": 8
         },
         "type": "scatter",
         "x": [
          1.5
         ],
         "y": [
          5.5
         ]
        },
        {
         "mode": "text",
         "showlegend": false,
         "text": [
          "Normal"
         ],
         "textfont": {
          "color": "white",
          "family": "Arial",
          "size": 8
         },
         "type": "scatter",
         "x": [
          2.5
         ],
         "y": [
          5.5
         ]
        },
        {
         "mode": "text",
         "showlegend": false,
         "text": [
          "DDoS"
         ],
         "textfont": {
          "color": "white",
          "family": "Arial",
          "size": 8
         },
         "type": "scatter",
         "x": [
          3.5
         ],
         "y": [
          5.5
         ]
        },
        {
         "mode": "text",
         "showlegend": false,
         "text": [
          "DoS"
         ],
         "textfont": {
          "color": "white",
          "family": "Arial",
          "size": 8
         },
         "type": "scatter",
         "x": [
          4.5
         ],
         "y": [
          5.5
         ]
        },
        {
         "mode": "text",
         "showlegend": false,
         "text": [
          "Normal"
         ],
         "textfont": {
          "color": "white",
          "family": "Arial",
          "size": 8
         },
         "type": "scatter",
         "x": [
          5.5
         ],
         "y": [
          5.5
         ]
        },
        {
         "mode": "text",
         "showlegend": false,
         "text": [
          "Normal"
         ],
         "textfont": {
          "color": "white",
          "family": "Arial",
          "size": 8
         },
         "type": "scatter",
         "x": [
          7.5
         ],
         "y": [
          5.5
         ]
        },
        {
         "mode": "text",
         "showlegend": false,
         "text": [
          "Normal"
         ],
         "textfont": {
          "color": "white",
          "family": "Arial",
          "size": 8
         },
         "type": "scatter",
         "x": [
          8.5
         ],
         "y": [
          5.5
         ]
        },
        {
         "mode": "text",
         "showlegend": false,
         "text": [
          "Normal"
         ],
         "textfont": {
          "color": "white",
          "family": "Arial",
          "size": 8
         },
         "type": "scatter",
         "x": [
          9.5
         ],
         "y": [
          5.5
         ]
        },
        {
         "mode": "text",
         "showlegend": false,
         "text": [
          "Normal"
         ],
         "textfont": {
          "color": "white",
          "family": "Arial",
          "size": 8
         },
         "type": "scatter",
         "x": [
          0.5
         ],
         "y": [
          6.5
         ]
        },
        {
         "mode": "text",
         "showlegend": false,
         "text": [
          "Normal"
         ],
         "textfont": {
          "color": "white",
          "family": "Arial",
          "size": 8
         },
         "type": "scatter",
         "x": [
          1.5
         ],
         "y": [
          6.5
         ]
        },
        {
         "mode": "text",
         "showlegend": false,
         "text": [
          "Normal"
         ],
         "textfont": {
          "color": "white",
          "family": "Arial",
          "size": 8
         },
         "type": "scatter",
         "x": [
          2.5
         ],
         "y": [
          6.5
         ]
        },
        {
         "mode": "text",
         "showlegend": false,
         "text": [
          "Normal"
         ],
         "textfont": {
          "color": "white",
          "family": "Arial",
          "size": 8
         },
         "type": "scatter",
         "x": [
          3.5
         ],
         "y": [
          6.5
         ]
        },
        {
         "mode": "text",
         "showlegend": false,
         "text": [
          "PortScan"
         ],
         "textfont": {
          "color": "white",
          "family": "Arial",
          "size": 8
         },
         "type": "scatter",
         "x": [
          5.5
         ],
         "y": [
          6.5
         ]
        },
        {
         "mode": "text",
         "showlegend": false,
         "text": [
          "Normal"
         ],
         "textfont": {
          "color": "white",
          "family": "Arial",
          "size": 8
         },
         "type": "scatter",
         "x": [
          6.5
         ],
         "y": [
          6.5
         ]
        },
        {
         "mode": "text",
         "showlegend": false,
         "text": [
          "PortScan"
         ],
         "textfont": {
          "color": "white",
          "family": "Arial",
          "size": 8
         },
         "type": "scatter",
         "x": [
          7.5
         ],
         "y": [
          6.5
         ]
        },
        {
         "mode": "text",
         "showlegend": false,
         "text": [
          "Normal"
         ],
         "textfont": {
          "color": "white",
          "family": "Arial",
          "size": 8
         },
         "type": "scatter",
         "x": [
          8.5
         ],
         "y": [
          6.5
         ]
        },
        {
         "mode": "text",
         "showlegend": false,
         "text": [
          "Normal"
         ],
         "textfont": {
          "color": "white",
          "family": "Arial",
          "size": 8
         },
         "type": "scatter",
         "x": [
          9.5
         ],
         "y": [
          6.5
         ]
        },
        {
         "mode": "text",
         "showlegend": false,
         "text": [
          "Normal"
         ],
         "textfont": {
          "color": "white",
          "family": "Arial",
          "size": 8
         },
         "type": "scatter",
         "x": [
          0.5
         ],
         "y": [
          7.5
         ]
        },
        {
         "mode": "text",
         "showlegend": false,
         "text": [
          "Normal"
         ],
         "textfont": {
          "color": "white",
          "family": "Arial",
          "size": 8
         },
         "type": "scatter",
         "x": [
          2.5
         ],
         "y": [
          7.5
         ]
        },
        {
         "mode": "text",
         "showlegend": false,
         "text": [
          "Normal"
         ],
         "textfont": {
          "color": "white",
          "family": "Arial",
          "size": 8
         },
         "type": "scatter",
         "x": [
          4.5
         ],
         "y": [
          7.5
         ]
        },
        {
         "mode": "text",
         "showlegend": false,
         "text": [
          "Normal"
         ],
         "textfont": {
          "color": "white",
          "family": "Arial",
          "size": 8
         },
         "type": "scatter",
         "x": [
          6.5
         ],
         "y": [
          7.5
         ]
        },
        {
         "mode": "text",
         "showlegend": false,
         "text": [
          "Normal"
         ],
         "textfont": {
          "color": "white",
          "family": "Arial",
          "size": 8
         },
         "type": "scatter",
         "x": [
          7.5
         ],
         "y": [
          7.5
         ]
        },
        {
         "mode": "text",
         "showlegend": false,
         "text": [
          "Normal"
         ],
         "textfont": {
          "color": "white",
          "family": "Arial",
          "size": 8
         },
         "type": "scatter",
         "x": [
          8.5
         ],
         "y": [
          7.5
         ]
        },
        {
         "mode": "text",
         "showlegend": false,
         "text": [
          "Normal"
         ],
         "textfont": {
          "color": "white",
          "family": "Arial",
          "size": 8
         },
         "type": "scatter",
         "x": [
          9.5
         ],
         "y": [
          7.5
         ]
        },
        {
         "mode": "text",
         "showlegend": false,
         "text": [
          "Normal"
         ],
         "textfont": {
          "color": "white",
          "family": "Arial",
          "size": 8
         },
         "type": "scatter",
         "x": [
          1.5
         ],
         "y": [
          8.5
         ]
        },
        {
         "mode": "text",
         "showlegend": false,
         "text": [
          "Normal"
         ],
         "textfont": {
          "color": "white",
          "family": "Arial",
          "size": 8
         },
         "type": "scatter",
         "x": [
          3.5
         ],
         "y": [
          8.5
         ]
        },
        {
         "mode": "text",
         "showlegend": false,
         "text": [
          "PortScan"
         ],
         "textfont": {
          "color": "white",
          "family": "Arial",
          "size": 8
         },
         "type": "scatter",
         "x": [
          4.5
         ],
         "y": [
          8.5
         ]
        },
        {
         "mode": "text",
         "showlegend": false,
         "text": [
          "DDoS"
         ],
         "textfont": {
          "color": "white",
          "family": "Arial",
          "size": 8
         },
         "type": "scatter",
         "x": [
          5.5
         ],
         "y": [
          8.5
         ]
        },
        {
         "mode": "text",
         "showlegend": false,
         "text": [
          "Normal"
         ],
         "textfont": {
          "color": "white",
          "family": "Arial",
          "size": 8
         },
         "type": "scatter",
         "x": [
          6.5
         ],
         "y": [
          8.5
         ]
        },
        {
         "mode": "text",
         "showlegend": false,
         "text": [
          "Normal"
         ],
         "textfont": {
          "color": "white",
          "family": "Arial",
          "size": 8
         },
         "type": "scatter",
         "x": [
          7.5
         ],
         "y": [
          8.5
         ]
        },
        {
         "mode": "text",
         "showlegend": false,
         "text": [
          "Normal"
         ],
         "textfont": {
          "color": "white",
          "family": "Arial",
          "size": 8
         },
         "type": "scatter",
         "x": [
          8.5
         ],
         "y": [
          8.5
         ]
        },
        {
         "mode": "text",
         "showlegend": false,
         "text": [
          "PortScan"
         ],
         "textfont": {
          "color": "white",
          "family": "Arial",
          "size": 8
         },
         "type": "scatter",
         "x": [
          9.5
         ],
         "y": [
          8.5
         ]
        },
        {
         "mode": "text",
         "showlegend": false,
         "text": [
          "PortScan"
         ],
         "textfont": {
          "color": "white",
          "family": "Arial",
          "size": 8
         },
         "type": "scatter",
         "x": [
          0.5
         ],
         "y": [
          9.5
         ]
        },
        {
         "mode": "text",
         "showlegend": false,
         "text": [
          "Normal"
         ],
         "textfont": {
          "color": "white",
          "family": "Arial",
          "size": 8
         },
         "type": "scatter",
         "x": [
          1.5
         ],
         "y": [
          9.5
         ]
        },
        {
         "mode": "text",
         "showlegend": false,
         "text": [
          "Normal"
         ],
         "textfont": {
          "color": "white",
          "family": "Arial",
          "size": 8
         },
         "type": "scatter",
         "x": [
          2.5
         ],
         "y": [
          9.5
         ]
        },
        {
         "mode": "text",
         "showlegend": false,
         "text": [
          "Normal"
         ],
         "textfont": {
          "color": "white",
          "family": "Arial",
          "size": 8
         },
         "type": "scatter",
         "x": [
          3.5
         ],
         "y": [
          9.5
         ]
        },
        {
         "mode": "text",
         "showlegend": false,
         "text": [
          "Normal"
         ],
         "textfont": {
          "color": "white",
          "family": "Arial",
          "size": 8
         },
         "type": "scatter",
         "x": [
          4.5
         ],
         "y": [
          9.5
         ]
        },
        {
         "mode": "text",
         "showlegend": false,
         "text": [
          "Normal"
         ],
         "textfont": {
          "color": "white",
          "family": "Arial",
          "size": 8
         },
         "type": "scatter",
         "x": [
          5.5
         ],
         "y": [
          9.5
         ]
        },
        {
         "mode": "text",
         "showlegend": false,
         "text": [
          "Normal"
         ],
         "textfont": {
          "color": "white",
          "family": "Arial",
          "size": 8
         },
         "type": "scatter",
         "x": [
          6.5
         ],
         "y": [
          9.5
         ]
        },
        {
         "mode": "text",
         "showlegend": false,
         "text": [
          "PortScan"
         ],
         "textfont": {
          "color": "white",
          "family": "Arial",
          "size": 8
         },
         "type": "scatter",
         "x": [
          7.5
         ],
         "y": [
          9.5
         ]
        },
        {
         "mode": "text",
         "showlegend": false,
         "text": [
          "Normal"
         ],
         "textfont": {
          "color": "white",
          "family": "Arial",
          "size": 8
         },
         "type": "scatter",
         "x": [
          8.5
         ],
         "y": [
          9.5
         ]
        },
        {
         "mode": "text",
         "showlegend": false,
         "text": [
          "PortScan"
         ],
         "textfont": {
          "color": "white",
          "family": "Arial",
          "size": 8
         },
         "type": "scatter",
         "x": [
          9.5
         ],
         "y": [
          9.5
         ]
        }
       ],
       "layout": {
        "height": 600,
        "template": {
         "data": {
          "bar": [
           {
            "error_x": {
             "color": "#2a3f5f"
            },
            "error_y": {
             "color": "#2a3f5f"
            },
            "marker": {
             "line": {
              "color": "white",
              "width": 0.5
             },
             "pattern": {
              "fillmode": "overlay",
              "size": 10,
              "solidity": 0.2
             }
            },
            "type": "bar"
           }
          ],
          "barpolar": [
           {
            "marker": {
             "line": {
              "color": "white",
              "width": 0.5
             },
             "pattern": {
              "fillmode": "overlay",
              "size": 10,
              "solidity": 0.2
             }
            },
            "type": "barpolar"
           }
          ],
          "carpet": [
           {
            "aaxis": {
             "endlinecolor": "#2a3f5f",
             "gridcolor": "#C8D4E3",
             "linecolor": "#C8D4E3",
             "minorgridcolor": "#C8D4E3",
             "startlinecolor": "#2a3f5f"
            },
            "baxis": {
             "endlinecolor": "#2a3f5f",
             "gridcolor": "#C8D4E3",
             "linecolor": "#C8D4E3",
             "minorgridcolor": "#C8D4E3",
             "startlinecolor": "#2a3f5f"
            },
            "type": "carpet"
           }
          ],
          "choropleth": [
           {
            "colorbar": {
             "outlinewidth": 0,
             "ticks": ""
            },
            "type": "choropleth"
           }
          ],
          "contour": [
           {
            "colorbar": {
             "outlinewidth": 0,
             "ticks": ""
            },
            "colorscale": [
             [
              0,
              "#0d0887"
             ],
             [
              0.1111111111111111,
              "#46039f"
             ],
             [
              0.2222222222222222,
              "#7201a8"
             ],
             [
              0.3333333333333333,
              "#9c179e"
             ],
             [
              0.4444444444444444,
              "#bd3786"
             ],
             [
              0.5555555555555556,
              "#d8576b"
             ],
             [
              0.6666666666666666,
              "#ed7953"
             ],
             [
              0.7777777777777778,
              "#fb9f3a"
             ],
             [
              0.8888888888888888,
              "#fdca26"
             ],
             [
              1,
              "#f0f921"
             ]
            ],
            "type": "contour"
           }
          ],
          "contourcarpet": [
           {
            "colorbar": {
             "outlinewidth": 0,
             "ticks": ""
            },
            "type": "contourcarpet"
           }
          ],
          "heatmap": [
           {
            "colorbar": {
             "outlinewidth": 0,
             "ticks": ""
            },
            "colorscale": [
             [
              0,
              "#0d0887"
             ],
             [
              0.1111111111111111,
              "#46039f"
             ],
             [
              0.2222222222222222,
              "#7201a8"
             ],
             [
              0.3333333333333333,
              "#9c179e"
             ],
             [
              0.4444444444444444,
              "#bd3786"
             ],
             [
              0.5555555555555556,
              "#d8576b"
             ],
             [
              0.6666666666666666,
              "#ed7953"
             ],
             [
              0.7777777777777778,
              "#fb9f3a"
             ],
             [
              0.8888888888888888,
              "#fdca26"
             ],
             [
              1,
              "#f0f921"
             ]
            ],
            "type": "heatmap"
           }
          ],
          "heatmapgl": [
           {
            "colorbar": {
             "outlinewidth": 0,
             "ticks": ""
            },
            "colorscale": [
             [
              0,
              "#0d0887"
             ],
             [
              0.1111111111111111,
              "#46039f"
             ],
             [
              0.2222222222222222,
              "#7201a8"
             ],
             [
              0.3333333333333333,
              "#9c179e"
             ],
             [
              0.4444444444444444,
              "#bd3786"
             ],
             [
              0.5555555555555556,
              "#d8576b"
             ],
             [
              0.6666666666666666,
              "#ed7953"
             ],
             [
              0.7777777777777778,
              "#fb9f3a"
             ],
             [
              0.8888888888888888,
              "#fdca26"
             ],
             [
              1,
              "#f0f921"
             ]
            ],
            "type": "heatmapgl"
           }
          ],
          "histogram": [
           {
            "marker": {
             "pattern": {
              "fillmode": "overlay",
              "size": 10,
              "solidity": 0.2
             }
            },
            "type": "histogram"
           }
          ],
          "histogram2d": [
           {
            "colorbar": {
             "outlinewidth": 0,
             "ticks": ""
            },
            "colorscale": [
             [
              0,
              "#0d0887"
             ],
             [
              0.1111111111111111,
              "#46039f"
             ],
             [
              0.2222222222222222,
              "#7201a8"
             ],
             [
              0.3333333333333333,
              "#9c179e"
             ],
             [
              0.4444444444444444,
              "#bd3786"
             ],
             [
              0.5555555555555556,
              "#d8576b"
             ],
             [
              0.6666666666666666,
              "#ed7953"
             ],
             [
              0.7777777777777778,
              "#fb9f3a"
             ],
             [
              0.8888888888888888,
              "#fdca26"
             ],
             [
              1,
              "#f0f921"
             ]
            ],
            "type": "histogram2d"
           }
          ],
          "histogram2dcontour": [
           {
            "colorbar": {
             "outlinewidth": 0,
             "ticks": ""
            },
            "colorscale": [
             [
              0,
              "#0d0887"
             ],
             [
              0.1111111111111111,
              "#46039f"
             ],
             [
              0.2222222222222222,
              "#7201a8"
             ],
             [
              0.3333333333333333,
              "#9c179e"
             ],
             [
              0.4444444444444444,
              "#bd3786"
             ],
             [
              0.5555555555555556,
              "#d8576b"
             ],
             [
              0.6666666666666666,
              "#ed7953"
             ],
             [
              0.7777777777777778,
              "#fb9f3a"
             ],
             [
              0.8888888888888888,
              "#fdca26"
             ],
             [
              1,
              "#f0f921"
             ]
            ],
            "type": "histogram2dcontour"
           }
          ],
          "mesh3d": [
           {
            "colorbar": {
             "outlinewidth": 0,
             "ticks": ""
            },
            "type": "mesh3d"
           }
          ],
          "parcoords": [
           {
            "line": {
             "colorbar": {
              "outlinewidth": 0,
              "ticks": ""
             }
            },
            "type": "parcoords"
           }
          ],
          "pie": [
           {
            "automargin": true,
            "type": "pie"
           }
          ],
          "scatter": [
           {
            "fillpattern": {
             "fillmode": "overlay",
             "size": 10,
             "solidity": 0.2
            },
            "type": "scatter"
           }
          ],
          "scatter3d": [
           {
            "line": {
             "colorbar": {
              "outlinewidth": 0,
              "ticks": ""
             }
            },
            "marker": {
             "colorbar": {
              "outlinewidth": 0,
              "ticks": ""
             }
            },
            "type": "scatter3d"
           }
          ],
          "scattercarpet": [
           {
            "marker": {
             "colorbar": {
              "outlinewidth": 0,
              "ticks": ""
             }
            },
            "type": "scattercarpet"
           }
          ],
          "scattergeo": [
           {
            "marker": {
             "colorbar": {
              "outlinewidth": 0,
              "ticks": ""
             }
            },
            "type": "scattergeo"
           }
          ],
          "scattergl": [
           {
            "marker": {
             "colorbar": {
              "outlinewidth": 0,
              "ticks": ""
             }
            },
            "type": "scattergl"
           }
          ],
          "scattermapbox": [
           {
            "marker": {
             "colorbar": {
              "outlinewidth": 0,
              "ticks": ""
             }
            },
            "type": "scattermapbox"
           }
          ],
          "scatterpolar": [
           {
            "marker": {
             "colorbar": {
              "outlinewidth": 0,
              "ticks": ""
             }
            },
            "type": "scatterpolar"
           }
          ],
          "scatterpolargl": [
           {
            "marker": {
             "colorbar": {
              "outlinewidth": 0,
              "ticks": ""
             }
            },
            "type": "scatterpolargl"
           }
          ],
          "scatterternary": [
           {
            "marker": {
             "colorbar": {
              "outlinewidth": 0,
              "ticks": ""
             }
            },
            "type": "scatterternary"
           }
          ],
          "surface": [
           {
            "colorbar": {
             "outlinewidth": 0,
             "ticks": ""
            },
            "colorscale": [
             [
              0,
              "#0d0887"
             ],
             [
              0.1111111111111111,
              "#46039f"
             ],
             [
              0.2222222222222222,
              "#7201a8"
             ],
             [
              0.3333333333333333,
              "#9c179e"
             ],
             [
              0.4444444444444444,
              "#bd3786"
             ],
             [
              0.5555555555555556,
              "#d8576b"
             ],
             [
              0.6666666666666666,
              "#ed7953"
             ],
             [
              0.7777777777777778,
              "#fb9f3a"
             ],
             [
              0.8888888888888888,
              "#fdca26"
             ],
             [
              1,
              "#f0f921"
             ]
            ],
            "type": "surface"
           }
          ],
          "table": [
           {
            "cells": {
             "fill": {
              "color": "#EBF0F8"
             },
             "line": {
              "color": "white"
             }
            },
            "header": {
             "fill": {
              "color": "#C8D4E3"
             },
             "line": {
              "color": "white"
             }
            },
            "type": "table"
           }
          ]
         },
         "layout": {
          "annotationdefaults": {
           "arrowcolor": "#2a3f5f",
           "arrowhead": 0,
           "arrowwidth": 1
          },
          "autotypenumbers": "strict",
          "coloraxis": {
           "colorbar": {
            "outlinewidth": 0,
            "ticks": ""
           }
          },
          "colorscale": {
           "diverging": [
            [
             0,
             "#8e0152"
            ],
            [
             0.1,
             "#c51b7d"
            ],
            [
             0.2,
             "#de77ae"
            ],
            [
             0.3,
             "#f1b6da"
            ],
            [
             0.4,
             "#fde0ef"
            ],
            [
             0.5,
             "#f7f7f7"
            ],
            [
             0.6,
             "#e6f5d0"
            ],
            [
             0.7,
             "#b8e186"
            ],
            [
             0.8,
             "#7fbc41"
            ],
            [
             0.9,
             "#4d9221"
            ],
            [
             1,
             "#276419"
            ]
           ],
           "sequential": [
            [
             0,
             "#0d0887"
            ],
            [
             0.1111111111111111,
             "#46039f"
            ],
            [
             0.2222222222222222,
             "#7201a8"
            ],
            [
             0.3333333333333333,
             "#9c179e"
            ],
            [
             0.4444444444444444,
             "#bd3786"
            ],
            [
             0.5555555555555556,
             "#d8576b"
            ],
            [
             0.6666666666666666,
             "#ed7953"
            ],
            [
             0.7777777777777778,
             "#fb9f3a"
            ],
            [
             0.8888888888888888,
             "#fdca26"
            ],
            [
             1,
             "#f0f921"
            ]
           ],
           "sequentialminus": [
            [
             0,
             "#0d0887"
            ],
            [
             0.1111111111111111,
             "#46039f"
            ],
            [
             0.2222222222222222,
             "#7201a8"
            ],
            [
             0.3333333333333333,
             "#9c179e"
            ],
            [
             0.4444444444444444,
             "#bd3786"
            ],
            [
             0.5555555555555556,
             "#d8576b"
            ],
            [
             0.6666666666666666,
             "#ed7953"
            ],
            [
             0.7777777777777778,
             "#fb9f3a"
            ],
            [
             0.8888888888888888,
             "#fdca26"
            ],
            [
             1,
             "#f0f921"
            ]
           ]
          },
          "colorway": [
           "#636efa",
           "#EF553B",
           "#00cc96",
           "#ab63fa",
           "#FFA15A",
           "#19d3f3",
           "#FF6692",
           "#B6E880",
           "#FF97FF",
           "#FECB52"
          ],
          "font": {
           "color": "#2a3f5f"
          },
          "geo": {
           "bgcolor": "white",
           "lakecolor": "white",
           "landcolor": "white",
           "showlakes": true,
           "showland": true,
           "subunitcolor": "#C8D4E3"
          },
          "hoverlabel": {
           "align": "left"
          },
          "hovermode": "closest",
          "mapbox": {
           "style": "light"
          },
          "paper_bgcolor": "white",
          "plot_bgcolor": "white",
          "polar": {
           "angularaxis": {
            "gridcolor": "#EBF0F8",
            "linecolor": "#EBF0F8",
            "ticks": ""
           },
           "bgcolor": "white",
           "radialaxis": {
            "gridcolor": "#EBF0F8",
            "linecolor": "#EBF0F8",
            "ticks": ""
           }
          },
          "scene": {
           "xaxis": {
            "backgroundcolor": "white",
            "gridcolor": "#DFE8F3",
            "gridwidth": 2,
            "linecolor": "#EBF0F8",
            "showbackground": true,
            "ticks": "",
            "zerolinecolor": "#EBF0F8"
           },
           "yaxis": {
            "backgroundcolor": "white",
            "gridcolor": "#DFE8F3",
            "gridwidth": 2,
            "linecolor": "#EBF0F8",
            "showbackground": true,
            "ticks": "",
            "zerolinecolor": "#EBF0F8"
           },
           "zaxis": {
            "backgroundcolor": "white",
            "gridcolor": "#DFE8F3",
            "gridwidth": 2,
            "linecolor": "#EBF0F8",
            "showbackground": true,
            "ticks": "",
            "zerolinecolor": "#EBF0F8"
           }
          },
          "shapedefaults": {
           "line": {
            "color": "#2a3f5f"
           }
          },
          "ternary": {
           "aaxis": {
            "gridcolor": "#DFE8F3",
            "linecolor": "#A2B1C6",
            "ticks": ""
           },
           "baxis": {
            "gridcolor": "#DFE8F3",
            "linecolor": "#A2B1C6",
            "ticks": ""
           },
           "bgcolor": "white",
           "caxis": {
            "gridcolor": "#DFE8F3",
            "linecolor": "#A2B1C6",
            "ticks": ""
           }
          },
          "title": {
           "x": 0.05
          },
          "xaxis": {
           "automargin": true,
           "gridcolor": "#EBF0F8",
           "linecolor": "#EBF0F8",
           "ticks": "",
           "title": {
            "standoff": 15
           },
           "zerolinecolor": "#EBF0F8",
           "zerolinewidth": 2
          },
          "yaxis": {
           "automargin": true,
           "gridcolor": "#EBF0F8",
           "linecolor": "#EBF0F8",
           "ticks": "",
           "title": {
            "standoff": 15
           },
           "zerolinecolor": "#EBF0F8",
           "zerolinewidth": 2
          }
         }
        },
        "title": {
         "text": "U-Matrix avec superposition des classes dominantes"
        },
        "width": 600,
        "xaxis": {
         "showgrid": false,
         "title": {
          "text": "Neurone X"
         }
        },
        "yaxis": {
         "showgrid": false,
         "title": {
          "text": "Neurone Y"
         }
        }
       }
      }
     },
     "metadata": {},
     "output_type": "display_data"
    }
   ],
   "source": [
    "# Calcul de la U-Matrix\n",
    "u_matrix = som.distance_map()  # Distance entre les poids des neurones adjacents\n",
    "fig = go.Figure()\n",
    "\n",
    "# U-Matrix en tant que Heatmap\n",
    "fig.add_trace(\n",
    "    go.Heatmap(\n",
    "        z=u_matrix,\n",
    "        colorscale=\"plasma\",  \n",
    "        colorbar=dict(title=\"Distance\"),\n",
    "        showscale=True,\n",
    "    )\n",
    ")\n",
    "\n",
    "# Superposition des valeurs des classes dominantes\n",
    "for x in range(u_matrix.shape[0]):  # Parcourt les neurones SOM\n",
    "    for y in range(u_matrix.shape[1]):\n",
    "        # Obtient la classe dominante pour chaque neurone si elle existe\n",
    "        value = bmu_to_class.get((x, y), None)\n",
    "        if value is not None:  # Si une classe est associée au neurone\n",
    "            fig.add_trace(\n",
    "                go.Scatter(\n",
    "                    x=[y + 0.5],\n",
    "                    y=[x + 0.5],\n",
    "                    text=[label_encoder.inverse_transform([value])[0]], \n",
    "                    mode=\"text\",\n",
    "                    textfont=dict(\n",
    "                        color=\"white\",\n",
    "                        size=8,\n",
    "                        family=\"Arial\",\n",
    "                    ),\n",
    "                    showlegend=False,\n",
    "                )\n",
    "            )\n",
    "\n",
    "fig.update_layout(\n",
    "    title=\"U-Matrix avec superposition des classes dominantes\",\n",
    "    xaxis=dict(title=\"Neurone X\", showgrid=False),\n",
    "    yaxis=dict(title=\"Neurone Y\", showgrid=False),\n",
    "    height=600,\n",
    "    width=600,\n",
    "    template=\"plotly_white\",  # Fond blanc\n",
    ")\n",
    "fig.show()"
   ]
  },
  {
   "cell_type": "markdown",
   "metadata": {},
   "source": [
    "Les couleurs de la matrice représentent ces distances :\n",
    "\n",
    "- Les zones bleu foncé indiquent des distances faibles entre les neurones, ce qui signifie que les poids\n",
    "des neurones voisins sont similaires et appartiennent probablement au même cluster. \n",
    "- À l’inverse, les zones jaunes ou oranges vives représentent des distances élevées, correspondant à des transitions\n",
    "entre différents clusters.\n",
    "\n",
    "On observe une prépondérance de la classe \"Normal\" sur une majorité des neurones, ce qui est attendu étant donné l’importance de cette classe dans le dataset. Cependant, des neurones comme ceux associés à \"PortScan\", \"DDoS\" ou \"DoS\" apparaissent comme des zones spécifiques où ces types d’attaques dominent. Ces zones peuvent indiquer que le SOM a réussi à séparer ces types d’anomalies des données normales."
   ]
  },
  {
   "cell_type": "markdown",
   "metadata": {},
   "source": [
    "#### Conclusion sur les cartes de Kohonen"
   ]
  },
  {
   "cell_type": "markdown",
   "metadata": {},
   "source": [
    "Les résultats montrent une précision notable pour la détection de comportements normaux (f1-\n",
    "score de 0.94) et une performance variable pour les anomalies, les attaques comme \"DDoS\" et\n",
    "\"PortScan\" étant mieux détectées grâce à leurs signatures distinctes. Cependant, certaines classes,\n",
    "comme \"WebAttack\" ou \"Infiltration\", ont été peu ou mal représentées, en raison d’un faible nombre\n",
    "d’échantillons ou de leurs similarités avec d’autres comportements.\n",
    "\n",
    "En conclusion, cette approche a démontré son utilité dans la classification et la détection des anomalies\n",
    "dans des données réseau complexes. Bien que les résultats puissent encore être optimisés pour\n",
    "certaines classes rares, la méthode est robuste et offre une vision claire des structures sous-jacentes\n",
    "des données, permettant de mieux comprendre les relations entre les différentes caractéristiques."
   ]
  }
 ],
 "metadata": {
  "kernelspec": {
   "display_name": "tf",
   "language": "python",
   "name": "python3"
  },
  "language_info": {
   "codemirror_mode": {
    "name": "ipython",
    "version": 3
   },
   "file_extension": ".py",
   "mimetype": "text/x-python",
   "name": "python",
   "nbconvert_exporter": "python",
   "pygments_lexer": "ipython3",
   "version": "3.10.13"
  }
 },
 "nbformat": 4,
 "nbformat_minor": 2
}
